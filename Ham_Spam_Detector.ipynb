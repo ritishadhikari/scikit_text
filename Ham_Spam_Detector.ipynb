{
 "cells": [
  {
   "cell_type": "code",
   "execution_count": 1,
   "metadata": {},
   "outputs": [],
   "source": [
    "import numpy as np\n",
    "import pandas as pd"
   ]
  },
  {
   "cell_type": "code",
   "execution_count": 2,
   "metadata": {},
   "outputs": [],
   "source": [
    "url='https://raw.githubusercontent.com/justmarkham/pycon-2016-tutorial/master/data/sms.tsv'"
   ]
  },
  {
   "cell_type": "code",
   "execution_count": 3,
   "metadata": {},
   "outputs": [],
   "source": [
    "sms=pd.read_table(filepath_or_buffer=url,header=None, names=['label','message'])"
   ]
  },
  {
   "cell_type": "code",
   "execution_count": 4,
   "metadata": {},
   "outputs": [
    {
     "data": {
      "text/html": [
       "<div>\n",
       "<style scoped>\n",
       "    .dataframe tbody tr th:only-of-type {\n",
       "        vertical-align: middle;\n",
       "    }\n",
       "\n",
       "    .dataframe tbody tr th {\n",
       "        vertical-align: top;\n",
       "    }\n",
       "\n",
       "    .dataframe thead th {\n",
       "        text-align: right;\n",
       "    }\n",
       "</style>\n",
       "<table border=\"1\" class=\"dataframe\">\n",
       "  <thead>\n",
       "    <tr style=\"text-align: right;\">\n",
       "      <th></th>\n",
       "      <th>label</th>\n",
       "      <th>message</th>\n",
       "    </tr>\n",
       "  </thead>\n",
       "  <tbody>\n",
       "    <tr>\n",
       "      <th>0</th>\n",
       "      <td>ham</td>\n",
       "      <td>Go until jurong point, crazy.. Available only ...</td>\n",
       "    </tr>\n",
       "    <tr>\n",
       "      <th>1</th>\n",
       "      <td>ham</td>\n",
       "      <td>Ok lar... Joking wif u oni...</td>\n",
       "    </tr>\n",
       "    <tr>\n",
       "      <th>2</th>\n",
       "      <td>spam</td>\n",
       "      <td>Free entry in 2 a wkly comp to win FA Cup fina...</td>\n",
       "    </tr>\n",
       "    <tr>\n",
       "      <th>3</th>\n",
       "      <td>ham</td>\n",
       "      <td>U dun say so early hor... U c already then say...</td>\n",
       "    </tr>\n",
       "    <tr>\n",
       "      <th>4</th>\n",
       "      <td>ham</td>\n",
       "      <td>Nah I don't think he goes to usf, he lives aro...</td>\n",
       "    </tr>\n",
       "  </tbody>\n",
       "</table>\n",
       "</div>"
      ],
      "text/plain": [
       "  label                                            message\n",
       "0   ham  Go until jurong point, crazy.. Available only ...\n",
       "1   ham                      Ok lar... Joking wif u oni...\n",
       "2  spam  Free entry in 2 a wkly comp to win FA Cup fina...\n",
       "3   ham  U dun say so early hor... U c already then say...\n",
       "4   ham  Nah I don't think he goes to usf, he lives aro..."
      ]
     },
     "execution_count": 4,
     "metadata": {},
     "output_type": "execute_result"
    }
   ],
   "source": [
    "sms.head()"
   ]
  },
  {
   "cell_type": "code",
   "execution_count": 5,
   "metadata": {},
   "outputs": [],
   "source": [
    "simple_train = ['call you tonight', 'call me a cab', 'please call me...please']"
   ]
  },
  {
   "cell_type": "code",
   "execution_count": 7,
   "metadata": {},
   "outputs": [],
   "source": [
    "from sklearn.feature_extraction.text import CountVectorizer"
   ]
  },
  {
   "cell_type": "code",
   "execution_count": 8,
   "metadata": {},
   "outputs": [],
   "source": [
    "vect = CountVectorizer()"
   ]
  },
  {
   "cell_type": "code",
   "execution_count": 9,
   "metadata": {},
   "outputs": [
    {
     "name": "stdout",
     "output_type": "stream",
     "text": [
      "Vect Properties are: \n",
      " CountVectorizer(analyzer='word', binary=False, decode_error='strict',\n",
      "                dtype=<class 'numpy.int64'>, encoding='utf-8', input='content',\n",
      "                lowercase=True, max_df=1.0, max_features=None, min_df=1,\n",
      "                ngram_range=(1, 1), preprocessor=None, stop_words=None,\n",
      "                strip_accents=None, token_pattern='(?u)\\\\b\\\\w\\\\w+\\\\b',\n",
      "                tokenizer=None, vocabulary=None) \n",
      "\n"
     ]
    }
   ],
   "source": [
    "print(\"Vect Properties are: \\n\", vect, \"\\n\")"
   ]
  },
  {
   "cell_type": "code",
   "execution_count": 10,
   "metadata": {},
   "outputs": [
    {
     "name": "stdout",
     "output_type": "stream",
     "text": [
      "Vect Output Properties are: \n",
      " ['__class__', '__delattr__', '__dict__', '__dir__', '__doc__', '__eq__', '__format__', '__ge__', '__getattribute__', '__getstate__', '__gt__', '__hash__', '__init__', '__init_subclass__', '__le__', '__lt__', '__module__', '__ne__', '__new__', '__reduce__', '__reduce_ex__', '__repr__', '__setattr__', '__setstate__', '__sizeof__', '__str__', '__subclasshook__', '__weakref__', '_char_ngrams', '_char_wb_ngrams', '_check_stop_words_consistency', '_check_vocabulary', '_count_vocab', '_get_param_names', '_get_tags', '_limit_features', '_more_tags', '_sort_features', '_validate_custom_analyzer', '_validate_params', '_validate_vocabulary', '_warn_for_unused_params', '_white_spaces', '_word_ngrams', 'analyzer', 'binary', 'build_analyzer', 'build_preprocessor', 'build_tokenizer', 'decode', 'decode_error', 'dtype', 'encoding', 'fit', 'fit_transform', 'get_feature_names', 'get_params', 'get_stop_words', 'input', 'inverse_transform', 'lowercase', 'max_df', 'max_features', 'min_df', 'ngram_range', 'preprocessor', 'set_params', 'stop_words', 'strip_accents', 'token_pattern', 'tokenizer', 'transform', 'vocabulary'] \n",
      "\n"
     ]
    }
   ],
   "source": [
    "print(\"Vect Output Properties are: \\n\", dir(vect), \"\\n\")"
   ]
  },
  {
   "cell_type": "code",
   "execution_count": 11,
   "metadata": {},
   "outputs": [
    {
     "data": {
      "text/plain": [
       "CountVectorizer(analyzer='word', binary=False, decode_error='strict',\n",
       "                dtype=<class 'numpy.int64'>, encoding='utf-8', input='content',\n",
       "                lowercase=True, max_df=1.0, max_features=None, min_df=1,\n",
       "                ngram_range=(1, 1), preprocessor=None, stop_words=None,\n",
       "                strip_accents=None, token_pattern='(?u)\\\\b\\\\w\\\\w+\\\\b',\n",
       "                tokenizer=None, vocabulary=None)"
      ]
     },
     "execution_count": 11,
     "metadata": {},
     "output_type": "execute_result"
    }
   ],
   "source": [
    "vect.fit(simple_train)"
   ]
  },
  {
   "cell_type": "code",
   "execution_count": 13,
   "metadata": {},
   "outputs": [
    {
     "name": "stdout",
     "output_type": "stream",
     "text": [
      "Examining the Fitted Vocabulary :\n",
      " ['cab', 'call', 'me', 'please', 'tonight', 'you'] \n",
      "\n"
     ]
    }
   ],
   "source": [
    "print(\"Examining the Fitted Vocabulary :\\n\", vect.get_feature_names(),\"\\n\")"
   ]
  },
  {
   "cell_type": "code",
   "execution_count": 14,
   "metadata": {},
   "outputs": [],
   "source": [
    "simple_train_dtm_parse = vect.transform(simple_train)"
   ]
  },
  {
   "cell_type": "code",
   "execution_count": 15,
   "metadata": {},
   "outputs": [
    {
     "name": "stdout",
     "output_type": "stream",
     "text": [
      "The Type of the Parse Matrix is :\n",
      " <class 'scipy.sparse.csr.csr_matrix'> \n",
      "\n"
     ]
    }
   ],
   "source": [
    "print(\"The Type of the Parse Matrix is :\\n\", type(simple_train_dtm_parse),\"\\n\")"
   ]
  },
  {
   "cell_type": "code",
   "execution_count": 16,
   "metadata": {},
   "outputs": [
    {
     "name": "stdout",
     "output_type": "stream",
     "text": [
      "The Document Term Sparse Matrix is :\n",
      "   (0, 1)\t1\n",
      "  (0, 4)\t1\n",
      "  (0, 5)\t1\n",
      "  (1, 0)\t1\n",
      "  (1, 1)\t1\n",
      "  (1, 2)\t1\n",
      "  (2, 1)\t1\n",
      "  (2, 2)\t1\n",
      "  (2, 3)\t2 \n",
      "\n"
     ]
    }
   ],
   "source": [
    "print(\"The Document Term Sparse Matrix is :\\n\", simple_train_dtm_parse, \"\\n\")"
   ]
  },
  {
   "cell_type": "code",
   "execution_count": 17,
   "metadata": {},
   "outputs": [],
   "source": [
    "simple_train_dtm_dense = simple_train_dtm_parse.toarray()"
   ]
  },
  {
   "cell_type": "code",
   "execution_count": 18,
   "metadata": {},
   "outputs": [
    {
     "name": "stdout",
     "output_type": "stream",
     "text": [
      "The Type of the Dense Matrix is :\n",
      " <class 'numpy.ndarray'> \n",
      "\n"
     ]
    }
   ],
   "source": [
    "print(\"The Type of the Dense Matrix is :\\n\", type(simple_train_dtm_dense),\"\\n\")"
   ]
  },
  {
   "cell_type": "code",
   "execution_count": 19,
   "metadata": {},
   "outputs": [
    {
     "name": "stdout",
     "output_type": "stream",
     "text": [
      "The Document Term Dense Matrix is :\n",
      " [[0 1 0 0 1 1]\n",
      " [1 1 1 0 0 0]\n",
      " [0 1 1 2 0 0]] \n",
      "\n"
     ]
    }
   ],
   "source": [
    "print(\"The Document Term Dense Matrix is :\\n\", simple_train_dtm_dense, \"\\n\")"
   ]
  },
  {
   "cell_type": "code",
   "execution_count": 20,
   "metadata": {},
   "outputs": [
    {
     "name": "stdout",
     "output_type": "stream",
     "text": [
      "Printing the Dense Matrix in a DataFrame \n",
      "                          cab  call  me  please  tonight  you\n",
      "call you tonight           0     1   0       0        1    1\n",
      "call me a cab              1     1   1       0        0    0\n",
      "please call me...please    0     1   1       2        0    0 \n",
      "\n"
     ]
    }
   ],
   "source": [
    "print(\"Printing the Dense Matrix in a DataFrame \\n\", pd.DataFrame(data=simple_train_dtm_dense,index=simple_train,columns=vect.get_feature_names()), \"\\n\")"
   ]
  },
  {
   "cell_type": "code",
   "execution_count": 21,
   "metadata": {},
   "outputs": [],
   "source": [
    "simple_test = ['please don\\'t call me']"
   ]
  },
  {
   "cell_type": "code",
   "execution_count": 22,
   "metadata": {},
   "outputs": [],
   "source": [
    "simple_test_dtm = vect.transform(simple_test)"
   ]
  },
  {
   "cell_type": "code",
   "execution_count": 23,
   "metadata": {},
   "outputs": [
    {
     "name": "stdout",
     "output_type": "stream",
     "text": [
      "The Sparse Matrix for the Test Data Set is :\n",
      "   (0, 1)\t1\n",
      "  (0, 2)\t1\n",
      "  (0, 3)\t1 \n",
      "\n"
     ]
    }
   ],
   "source": [
    "print(\"The Sparse Matrix for the Test Data Set is :\\n\", simple_test_dtm, \"\\n\")"
   ]
  },
  {
   "cell_type": "code",
   "execution_count": 24,
   "metadata": {},
   "outputs": [
    {
     "name": "stdout",
     "output_type": "stream",
     "text": [
      "The Dense Matrix for the Test Data Set is :\n",
      " [[0 1 1 1 0 0]] \n",
      "\n"
     ]
    }
   ],
   "source": [
    "print(\"The Dense Matrix for the Test Data Set is :\\n\", simple_test_dtm.toarray(), \"\\n\")"
   ]
  },
  {
   "cell_type": "code",
   "execution_count": 25,
   "metadata": {},
   "outputs": [
    {
     "name": "stdout",
     "output_type": "stream",
     "text": [
      "Printing the Dense Matrix in a DataFrame for the Test Data \n",
      "                       cab  call  me  please  tonight  you\n",
      "please don't call me    0     1   1       1        0    0 \n",
      "\n"
     ]
    }
   ],
   "source": [
    "print(\"Printing the Dense Matrix in a DataFrame for the Test Data \\n\", pd.DataFrame(data=simple_test_dtm.toarray(),index=simple_test,columns=vect.get_feature_names()), \"\\n\")"
   ]
  },
  {
   "cell_type": "code",
   "execution_count": 28,
   "metadata": {},
   "outputs": [
    {
     "name": "stdout",
     "output_type": "stream",
     "text": [
      "The shape of the Input Message is :\n",
      " (5572,) \n",
      "\n",
      "The shape of the output Variable is \n",
      " (5572,) \n",
      "\n"
     ]
    }
   ],
   "source": [
    "print(\"The shape of the Input Message is :\\n\", X.shape, \"\\n\")\n",
    "\n",
    "print(\"The shape of the output Variable is \\n\", y.shape, \"\\n\")"
   ]
  },
  {
   "cell_type": "code",
   "execution_count": 33,
   "metadata": {},
   "outputs": [
    {
     "data": {
      "text/plain": [
       "ham     4825\n",
       "spam     747\n",
       "Name: label, dtype: int64"
      ]
     },
     "execution_count": 33,
     "metadata": {},
     "output_type": "execute_result"
    }
   ],
   "source": [
    "sms['label'].value_counts()"
   ]
  },
  {
   "cell_type": "code",
   "execution_count": null,
   "metadata": {},
   "outputs": [],
   "source": []
  },
  {
   "cell_type": "code",
   "execution_count": 35,
   "metadata": {},
   "outputs": [],
   "source": [
    "from sklearn.model_selection import train_test_split"
   ]
  },
  {
   "cell_type": "code",
   "execution_count": 40,
   "metadata": {},
   "outputs": [],
   "source": [
    "sms['label_num']=sms['label'].map({'ham':0,'spam':1})"
   ]
  },
  {
   "cell_type": "code",
   "execution_count": 41,
   "metadata": {},
   "outputs": [],
   "source": [
    "X = sms['message']"
   ]
  },
  {
   "cell_type": "code",
   "execution_count": 42,
   "metadata": {},
   "outputs": [],
   "source": [
    "y= sms['label_num']"
   ]
  },
  {
   "cell_type": "code",
   "execution_count": 43,
   "metadata": {},
   "outputs": [],
   "source": [
    "Xtrain, Xtest, ytrain, ytest = train_test_split(X,y,random_state=1)"
   ]
  },
  {
   "cell_type": "code",
   "execution_count": 44,
   "metadata": {},
   "outputs": [
    {
     "name": "stdout",
     "output_type": "stream",
     "text": [
      "The Shape of the Training Input Data is :\n",
      " (4179,)\n",
      "The Shape of the Testing Input Data is :\n",
      " (1393,)\n",
      "The Shape of the Training Output Data is :\n",
      " (4179,)\n",
      "The Shape of the Testing Output Data is :\n",
      " (1393,)\n"
     ]
    }
   ],
   "source": [
    "print(\"The Shape of the Training Input Data is :\\n\", Xtrain.shape)\n",
    "print(\"The Shape of the Testing Input Data is :\\n\", Xtest.shape)\n",
    "print(\"The Shape of the Training Output Data is :\\n\", ytrain.shape)\n",
    "print(\"The Shape of the Testing Output Data is :\\n\", ytest.shape)"
   ]
  },
  {
   "cell_type": "code",
   "execution_count": 47,
   "metadata": {},
   "outputs": [
    {
     "data": {
      "text/plain": [
       "710     4mths half price Orange line rental & latest c...\n",
       "3740                           Did you stitch his trouser\n",
       "2711    Hope you enjoyed your new content. text stop t...\n",
       "3155    Not heard from U4 a while. Call 4 rude chat pr...\n",
       "3748    Ü neva tell me how i noe... I'm not at home in...\n",
       "                              ...                        \n",
       "905     We're all getting worried over here, derek and...\n",
       "5192    Oh oh... Den muz change plan liao... Go back h...\n",
       "3980    CERI U REBEL! SWEET DREAMZ ME LITTLE BUDDY!! C...\n",
       "235     Text & meet someone sexy today. U can find a d...\n",
       "5157                              K k:) sms chat with me.\n",
       "Name: message, Length: 4179, dtype: object"
      ]
     },
     "execution_count": 47,
     "metadata": {},
     "output_type": "execute_result"
    }
   ],
   "source": [
    "Xtrain"
   ]
  },
  {
   "cell_type": "code",
   "execution_count": 48,
   "metadata": {},
   "outputs": [],
   "source": [
    "vect = CountVectorizer()"
   ]
  },
  {
   "cell_type": "code",
   "execution_count": 49,
   "metadata": {},
   "outputs": [],
   "source": [
    "Xtrain_dtm_parse = vect.fit_transform(Xtrain)"
   ]
  },
  {
   "cell_type": "code",
   "execution_count": 50,
   "metadata": {
    "scrolled": true
   },
   "outputs": [
    {
     "name": "stdout",
     "output_type": "stream",
     "text": [
      "The Sparse Matrix for the Training Data is :\n",
      "   (0, 509)\t1\n",
      "  (0, 3181)\t1\n",
      "  (0, 5193)\t1\n",
      "  (0, 4781)\t1\n",
      "  (0, 3971)\t1\n",
      "  (0, 5479)\t1\n",
      "  (0, 3880)\t1\n",
      "  (0, 1572)\t1\n",
      "  (0, 4987)\t1\n",
      "  (0, 2864)\t2\n",
      "  (0, 3170)\t1\n",
      "  (0, 7424)\t1\n",
      "  (0, 4983)\t1\n",
      "  (0, 264)\t1\n",
      "  (0, 1552)\t1\n",
      "  (0, 4375)\t1\n",
      "  (0, 4743)\t1\n",
      "  (0, 50)\t1\n",
      "  (0, 6656)\t1\n",
      "  (0, 6892)\t1\n",
      "  (0, 4662)\t1\n",
      "  (0, 4779)\t1\n",
      "  (0, 2022)\t1\n",
      "  (1, 2222)\t1\n",
      "  (1, 7420)\t1\n",
      "  :\t:\n",
      "  (4177, 4255)\t1\n",
      "  (4177, 4446)\t1\n",
      "  (4177, 4778)\t1\n",
      "  (4177, 2744)\t1\n",
      "  (4177, 254)\t1\n",
      "  (4177, 5490)\t1\n",
      "  (4177, 2556)\t1\n",
      "  (4177, 4508)\t1\n",
      "  (4177, 6034)\t1\n",
      "  (4177, 6662)\t1\n",
      "  (4177, 307)\t1\n",
      "  (4177, 837)\t1\n",
      "  (4177, 3700)\t1\n",
      "  (4177, 5796)\t1\n",
      "  (4177, 358)\t1\n",
      "  (4177, 4934)\t1\n",
      "  (4177, 2453)\t1\n",
      "  (4177, 2097)\t1\n",
      "  (4177, 5403)\t1\n",
      "  (4177, 2786)\t1\n",
      "  (4177, 6577)\t1\n",
      "  (4178, 1691)\t1\n",
      "  (4178, 4238)\t1\n",
      "  (4178, 7257)\t1\n",
      "  (4178, 5999)\t1 \n",
      "\n"
     ]
    }
   ],
   "source": [
    "print(\"The Sparse Matrix for the Training Data is :\\n\", Xtrain_dtm_parse, \"\\n\")"
   ]
  },
  {
   "cell_type": "code",
   "execution_count": 51,
   "metadata": {},
   "outputs": [
    {
     "name": "stdout",
     "output_type": "stream",
     "text": [
      "The Dense Matrix for the Training Data is :\n",
      " [[0 0 0 ... 0 0 0]\n",
      " [0 0 0 ... 0 0 0]\n",
      " [0 0 0 ... 0 0 0]\n",
      " ...\n",
      " [0 0 0 ... 0 0 0]\n",
      " [0 0 0 ... 0 0 0]\n",
      " [0 0 0 ... 0 0 0]] \n",
      "\n"
     ]
    }
   ],
   "source": [
    "print(\"The Dense Matrix for the Training Data is :\\n\", Xtrain_dtm_parse.toarray(), \"\\n\")"
   ]
  },
  {
   "cell_type": "code",
   "execution_count": 52,
   "metadata": {},
   "outputs": [],
   "source": [
    "fitted_vocab = vect.get_feature_names()"
   ]
  },
  {
   "cell_type": "code",
   "execution_count": 53,
   "metadata": {},
   "outputs": [
    {
     "name": "stdout",
     "output_type": "stream",
     "text": [
      "The Fitted Vocabulory is :\n",
      " ['00', '000', '008704050406', '0121', '01223585236', '01223585334', '0125698789', '02', '0207', '02072069400', '02073162414', '02085076972', '021', '03', '04', '0430', '05', '050703', '0578', '06', '07', '07008009200', '07090201529', '07090298926', '07123456789', '07732584351', '07734396839', '07742676969', '0776xxxxxxx', '07781482378', '07786200117', '078', '07801543489', '07808', '07808247860', '07808726822', '07815296484', '07821230901', '07880867867', '0789xxxxxxx', '07946746291', '0796xxxxxx', '07973788240', '07xxxxxxxxx', '08', '0800', '08000407165', '08000776320', '08000839402', '08000930705', '08000938767', '08001950382', '08002888812', '08002986030', '08002986906', '08002988890', '08006344447', '0808', '08081263000', '08081560665', '0825', '083', '0844', '08448714184', '0845', '08450542832', '08452810071', '08452810073', '08452810075over18', '0870', '08700435505150p', '08700469649', '08700621170150p', '08701213186', '08701417012', '08701417012150p', '0870141701216', '087016248', '08701752560', '0870241182716', '08702840625', '08704050406', '08704439680', '08706091795', '0870737910216yrs', '08707509020', '08707808226', '08708034412', '08709222922', '08709501522', '0871', '087104711148', '08712101358', '08712103738', '0871212025016', '08712300220', '087123002209am', '08712317606', '08712400602450p', '08712400603', '08712402050', '08712402578', '08712402779', '08712402902', '08712402972', '08712404000', '08712405020', '08712405022', '08712460324', '0871277810710p', '0871277810810', '0871277810910p', '08714342399', '08714712379', '08714712388', '08714712394', '08714712412', '08715203028', '08715203649', '08715203652', '08715203685', '08715203694', '08715500022', '08715705022', '08717168528', '08717205546', '0871750', '08717898035', '08718711108', '08718720201', '08718723815', '08718725756', '08718726270', '087187262701', '08718726970', '08718726971', '08718726978', '08718727868', '08718727870', '08718727870150ppm', '08718730555', '08718730666', '08718738001', '08718738002', '08719180248', '08719181503', '08719181513', '08719899217', '08719899229', '08719899230', '09', '09050000301', '09050000332', '09050000460', '09050000555', '09050000878', '09050000928', '09050001295', '09050001808', '09050002311', '09050003091', '09050090044', '09050280520', '09053750005', '09056242159', '09057039994', '09058091854', '09058091870', '09058094454', '09058094455', '09058094507', '09058094565', '09058094583', '09058094594', '09058094597', '09058094599', '09058098002', '09058099801', '09061104276', '09061104283', '09061209465', '09061213237', '09061221061', '09061221066', '09061701444', '09061701461', '09061701939', '09061702893', '09061743386', '09061743806', '09061743810', '09061743811', '09061744553', '09061749602', '09061790121', '09061790125', '09061790126', '09063440451', '09063458130', '0906346330', '09064011000', '09064012103', '09064012160', '09064015307', '09064017295', '09064018838', '09064019014', '09064019788', '09065069120', '09065069154', '09065171142', '09065174042', '09065394514', '09065989180', '09065989182', '09066350750', '09066358152', '09066358361', '09066361921', '09066362231', '09066364311', '09066364349', '09066364589', '09066368470', '09066380611', '09066382422', '09066612661', '09066649731from', '09066660100', '09071512433', '09077818151', '09090204448', '09094100151', '09094646631', '09095350301', '09096102316', '09099725823', '09099726395', '09099726429', '09099726481', '09099726553', '09111032124', '09701213186', '0a', '10', '100', '1000', '1000s', '100p', '100percent', '1013', '1030', '10am', '10k', '10p', '10ppm', '10th', '11', '1120', '113', '1131', '114', '116', '118p', '11mths', '11pm', '12', '1205', '120p', '121', '1225', '123', '125', '1250', '125gift', '128', '12hrs', '12mths', '13', '130', '1327', '139', '14', '140', '1405', '140ppm', '145', '1450', '146tf150p', '14thmarch', '15', '150', '1500', '150p', '150p16', '150pm', '150ppermesssubscription', '150ppm', '150pw', '151', '153', '15pm', '16', '165', '1680', '169', '177', '18', '180', '1843', '18p', '18yrs', '195', '1956669', '1apple', '1b6a5ecef91ff9', '1cup', '1er', '1hr', '1im', '1lemon', '1mega', '1million', '1pm', '1st', '1st4terms', '1stchoice', '1thing', '1tulsi', '1win150ppmx3', '1winaweek', '1winawk', '1x150p', '1yf', '20', '200', '2000', '2003', '2004', '2005', '2006', '2007', '2025050', '20m12aq', '20p', '21', '21870000', '21st', '22', '220', '220cm2', '2309', '23f', '23g', '24', '24hrs', '24m', '24th', '25', '250', '250k', '255', '25p', '26', '2667', '26th', '27', '28', '2814032', '28days', '28th', '28thfeb', '29', '2b', '2c', '2channel', '2day', '2docd', '2end', '2ez', '2find', '2getha', '2geva', '2go', '2gthr', '2hrs', '2kbsubject', '2lands', '2marrow', '2moro', '2morow', '2morro', '2morrow', '2morrowxxxx', '2mro', '2mrw', '2mwen', '2nd', '2nite', '2optout', '2px', '2rcv', '2stop', '2stoptxt', '2u', '2watershd', '2waxsto', '2wks', '2wt', '2wu', '2yr', '2yrs', '30', '300', '3000', '300603', '300p', '3030', '30apr', '30ish', '30pm', '30pp', '30s', '31', '3100', '310303', '31p', '32', '32000', '326', '33', '330', '350', '3510i', '3650', '36504', '3680', '3750', '37819', '38', '382', '391784', '3aj', '3d', '3days', '3g', '3gbp', '3hrs', '3lions', '3lp', '3miles', '3mins', '3mobile', '3optical', '3pound', '3qxj9', '3rd', '3ss', '3uz', '3wks', '3x', '3xx', '40', '400', '400mins', '400thousad', '402', '40411', '40533', '40gb', '40mph', '41685', '41782', '420', '4217', '42810', '430', '434', '44', '440', '4403ldnw1a7rw18', '44345', '447797706009', '447801259231', '448712404000', '449050000301', '45', '450p', '450ppw', '45239', '45pm', '47', '4719', '4742', '47per', '48', '4882', '48922', '49', '49557', '4a', '4d', '4eva', '4few', '4fil', '4get', '4got', '4info', '4msgs', '4mths', '4qf2', '4t', '4th', '4txt', '4u', '4utxt', '4w', '4wrd', '4xx26', '4years', '50', '500', '5000', '50award', '50ea', '50gbp', '50p', '50perweeksub', '50perwksub', '50pm', '50ppm', '50rcvd', '50s', '515', '5226', '523', '5249', '526', '528', '530', '54', '542', '5digital', '5free', '5ish', '5k', '5min', '5mls', '5p', '5pm', '5th', '5wb', '5we', '5wkg', '5wq', '5years', '60', '600', '6031', '6089', '60p', '61', '61200', '61610', '62468', '630', '63miles', '645', '65', '66', '6669', '674', '67441233', '68866', '69101', '69669', '69696', '69698', '69855', '69866', '69888', '69888nyt', '69911', '69969', '69988', '6hrs', '6ish', '6missed', '6months', '6ph', '6pm', '6th', '6wu', '6zf', '700', '7250', '7250i', '730', '731', '75', '750', '75max', '762', '7634', '7684', '77', '7732584351', '78', '786', '7876150ppm', '7am', '7cfca1a', '7ish', '7oz', '7pm', '7th', '7ws', '800', '8000930705', '80062', '8007', '80082', '80086', '80122300p', '80155', '80182', '8027', '80488', '80608', '8077', '80878', '81010', '81151', '81303', '81618', '820554ad0a1705572711', '82242', '82277', '82324', '82468', '83049', '83110', '83118', '83222', '83332', '83338', '83355', '83600', '83738', '84', '84025', '84122', '84128', '84199', '84484', '85', '85023', '85069', '85222', '85233', '8552', '86021', '861', '864233', '86688', '86888', '87021', '87066', '87070', '87077', '87121', '87131', '872', '87239', '87575', '88039', '88066', '88088', '88222', '88600', '88800', '8883', '88877', '88888', '89034', '89070', '89080', '89105', '89545', '89555', '89693', '89938', '8am', '8ball', '8lb', '8p', '8pm', '8th', '8wp', '900', '9061100010', '910', '9153', '92h', '930', '9307622', '945', '95', '9755', '9758', '99', '9996', '9ae', '9am', '9pm', '9t', '9th', '9yt', '____', 'a21', 'a30', 'aah', 'aaniye', 'aaooooright', 'aathi', 'abbey', 'abdomen', 'abeg', 'abel', 'aberdeen', 'abi', 'ability', 'abiola', 'abj', 'able', 'abnormally', 'about', 'aboutas', 'abroad', 'absence', 'absolutely', 'absolutly', 'abstract', 'abt', 'abta', 'ac', 'academic', 'acc', 'accent', 'accenture', 'accept', 'access', 'accessible', 'accidant', 'accident', 'accidentally', 'accommodation', 'accomodate', 'accomodations', 'accordin', 'accordingly', 'account', 'accounting', 'accounts', 'achan', 'ache', 'achieve', 'acid', 'acl03530150pm', 'acnt', 'aco', 'across', 'act', 'acted', 'actin', 'acting', 'action', 'activ8', 'activate', 'active', 'activities', 'actor', 'actual', 'actually', 'ad', 'adam', 'add', 'addamsfa', 'added', 'addicted', 'addie', 'adding', 'address', 'adewale', 'adjustable', 'admin', 'administrator', 'admirer', 'admission', 'admit', 'adore', 'adoring', 'adp', 'adress', 'adrian', 'adrink', 'ads', 'adsense', 'adult', 'adults', 'advance', 'adventure', 'advice', 'advise', 'advising', 'advisors', 'aeronautics', 'aeroplane', 'affair', 'affairs', 'affection', 'affections', 'affidavit', 'afford', 'afghanistan', 'afraid', 'africa', 'african', 'aft', 'after', 'afternon', 'afternoon', 'afterwards', 'aftr', 'ag', 'again', 'against', 'age', 'age16', 'age23', 'agency', 'agent', 'agents', 'ages', 'agidhane', 'aging', 'ago', 'agree', 'ah', 'aha', 'ahead', 'ahhh', 'ahhhh', 'ahmad', 'aids', 'aig', 'aight', 'ain', 'aint', 'air', 'air1', 'airport', 'airtel', 'aiya', 'aiyah', 'aiyar', 'aiyo', 'ajith', 'ak', 'aka', 'akon', 'al', 'alaipayuthe', 'album', 'alcohol', 'aldrine', 'alert', 'alertfrom', 'alerts', 'alex', 'alfie', 'algarve', 'algebra', 'ali', 'alian', 'alibi', 'alive', 'all', 'allah', 'allday', 'allow', 'allowed', 'allows', 'almost', 'alone', 'along', 'alot', 'already', 'alright', 'alrite', 'also', 'alto18', 'alwa', 'always', 'alwys', 'am', 'amanda', 'amazing', 'ambitious', 'american', 'ami', 'amk', 'amla', 'amma', 'ammae', 'ammo', 'among', 'amongst', 'amore', 'amount', 'amp', 'amplikater', 'amrita', 'ams', 'amt', 'amused', 'an', 'analysis', 'anand', 'and', 'anderson', 'andre', 'andres', 'andrews', 'angry', 'animal', 'animation', 'anna', 'annie', 'anniversary', 'announced', 'announcement', 'annoyin', 'annoying', 'anot', 'another', 'ans', 'ansr', 'answer', 'answered', 'answerin', 'answering', 'answers', 'answr', 'antelope', 'antha', 'anthony', 'anti', 'antibiotic', 'any', 'anybody', 'anymore', 'anyone', 'anyones', 'anyplaces', 'anythiing', 'anythin', 'anything', 'anythingtomorrow', 'anytime', 'anyway', 'anyways', 'anywhere', 'aom', 'apart', 'apartment', 'apes', 'apeshit', 'aphex', 'apnt', 'apo', 'apologetic', 'apologise', 'apologize', 'apology', 'app', 'apparently', 'appeal', 'appear', 'appendix', 'applausestore', 'applebees', 'apples', 'application', 'apply', 'applying', 'appointment', 'appointments', 'appreciate', 'appropriate', 'approve', 'approved', 'approx', 'apps', 'appt', 'appy', 'april', 'aproach', 'aptitude', 'aquarius', 'ar', 'arab', 'arabian', 'arcade', 'archive', 'ard', 'are', 'area', 'aren', 'arent', 'arestaurant', 'aretaking', 'argentina', 'argh', 'argue', 'arguing', 'argument', 'arguments', 'aries', 'arise', 'arises', 'arm', 'armand', 'armenia', 'arms', 'arng', 'around', 'aroundn', 'arr', 'arrange', 'arranging', 'arrested', 'arrival', 'arrive', 'arrow', 'arsenal', 'art', 'arts', 'arty', 'arul', 'arun', 'as', 'asap', 'asda', 'ashes', 'ashley', 'ashwini', 'asia', 'asian', 'asjesus', 'ask', 'askd', 'asked', 'askin', 'asking', 'asks', 'asleep', 'asp', 'ass', 'assessment', 'asshole', 'assistance', 'associate', 'asssssholeeee', 'assume', 'assumed', 'asthere', 'astne', 'astrology', 'astronomer', 'asusual', 'at', 'ate', 'athletic', 'athome', 'atlanta', 'atlast', 'atleast', 'atm', 'atrocious', 'attached', 'attempt', 'attend', 'attending', 'attention', 'attitude', 'attraction', 'attractive', 'attracts', 'attributed', 'auction', 'audition', 'audrey', 'audrie', 'august', 'aunt', 'aunties', 'aunts', 'aunty', 'aust', 'australia', 'auto', 'autocorrect', 'av', 'availa', 'available', 'avalarr', 'avatar', 'avble', 'ave', 'avent', 'avenue', 'avin', 'avo', 'avoid', 'avoids', 'await', 'awaiting', 'awake', 'award', 'awarded', 'away', 'awesome', 'awkward', 'aww', 'awww', 'ax', 'axel', 'axis', 'ay', 'ayn', 'b4', 'b4190604', 'b4280703', 'b4u', 'b4utele', 'ba', 'ba128nnfwfly150ppm', 'babe', 'babes', 'baby', 'babygoodbye', 'babyjontet', 'babysit', 'babysitting', 'back', 'backdoor', 'backwards', 'bad', 'badass', 'badly', 'badrith', 'bag', 'bags', 'bahamas', 'bailiff', 'bak', 'bakra', 'balance', 'ball', 'baller', 'balloon', 'bambling', 'band', 'bandages', 'bani', 'bank', 'banneduk', 'bar', 'barbie', 'bare', 'barely', 'bari', 'barkleys', 'barmed', 'barred', 'barrel', 'barring', 'barry', 'bars', 'base', 'based', 'basic', 'basically', 'basket', 'basketball', 'bat', 'batch', 'batchlor', 'bath', 'bathe', 'bathing', 'bathroom', 'battery', 'bay', 'bb', 'bbc', 'bbd', 'bbdeluxe', 'bbq', 'bc', 'bcaz', 'bck', 'bcm', 'bcm4284', 'bcmsfwc1n3xx', 'bcoz', 'bcum', 'bcums', 'bcz', 'bday', 'be', 'beads', 'bear', 'bears', 'beatings', 'beauties', 'beautiful', 'beauty', 'bec', 'becaus', 'because', 'becausethey', 'become', 'becoz', 'becz', 'bed', 'bedbut', 'bedrm', 'bedroom', 'beehoon', 'been', 'beendropping', 'beer', 'beers', 'befor', 'before', 'beg', 'beggar', 'begging', 'begin', 'begins', 'begun', 'behalf', 'behave', 'behind', 'bein', 'being', 'believe', 'belive', 'bell', 'bellearlier', 'belligerent', 'belly', 'belong', 'belovd', 'beloved', 'belt', 'ben', 'bend', 'beneficiary', 'benefits', 'bennys', 'bergkamp', 'best', 'best1', 'bet', 'beta', 'betta', 'better', 'bettersn', 'bettr', 'between', 'beverage', 'bevies', 'beware', 'beyond', 'bf', 'bffs', 'bfore', 'bhaji', 'bhaskar', 'bhayandar', 'bian', 'bid', 'bids', 'big', 'bigger', 'biggest', 'bike', 'bill', 'billed', 'billion', 'bills', 'billy', 'bilo', 'bimbo', 'bin', 'biola', 'bird', 'birds', 'birla', 'biro', 'birth', 'birthdate', 'birthday', 'bishan', 'bit', 'bitch', 'bitching', 'bite', 'bits', 'biz', 'bk', 'black', 'blackberry', 'blacko', 'blah', 'blake', 'blame', 'blank', 'blanked', 'blanket', 'blastin', 'bleak', 'bless', 'blessed', 'blessing', 'blessings', 'blind', 'block', 'blog', 'blogging', 'blogspot', 'bloke', 'blokes', 'blonde', 'bloo', 'blood', 'bloody', 'bloomberg', 'blow', 'blowing', 'blown', 'blu', 'blue', 'bluetooth', 'bluetoothhdset', 'bluff', 'blur', 'bluray', 'bmw', 'board', 'boat', 'boatin', 'bob', 'body', 'bognor', 'bold', 'bold2', 'bomb', 'bone', 'bonus', 'boo', 'boobs', 'book', 'booked', 'booking', 'bookmark', 'books', 'bookshelf', 'boost', 'booty', 'bootydelious', 'bored', 'borin', 'boring', 'born', 'borrow', 'boss', 'boston', 'bot', 'both', 'bother', 'bottle', 'bottom', 'bought', 'boundaries', 'bout', 'bowa', 'bowl', 'bowls', 'box', 'box1146', 'box139', 'box177', 'box245c2150pm', 'box326', 'box334', 'box334sk38ch', 'box385', 'box39822', 'box403', 'box420', 'box42wr29c', 'box434sk38wp150ppm18', 'box61', 'box95qu', 'box97n7qp', 'boy', 'boye', 'boyf', 'boyfriend', 'boys', 'boytoy', 'bpo', 'brah', 'brain', 'braindance', 'brainy', 'brand', 'brandy', 'bras', 'bray', 'brb', 'brdget', 'bread', 'breadstick', 'break', 'breaker', 'breakfast', 'breakin', 'breaking', 'breaks', 'breath', 'breathe', 'breathe1', 'breathing', 'breeze', 'breezy', 'bribe', 'brief', 'bright', 'brilliant', 'brilliantly', 'brin', 'bring', 'bringing', 'brings', 'brison', 'bristol', 'british', 'britney', 'bro', 'broad', 'broke', 'broken', 'brolly', 'bros', 'broth', 'brothas', 'brother', 'brothers', 'brought', 'brownie', 'brownies', 'browser', 'browsin', 'bruce', 'brum', 'bruv', 'bslvyl', 'bsn', 'bsnl', 'bstfrnd', 'bt', 'bthere', 'btw', 'btwn', 'bubbletext', 'bucks', 'bud', 'buddy', 'buddys', 'budget', 'buen', 'buff', 'buffet', 'buffy', 'bugis', 'building', 'built', 'bulbs', 'bull', 'bullshit', 'bunch', 'bundle', 'buns', 'burger', 'burgundy', 'burial', 'burning', 'burns', 'burnt', 'burrito', 'bus', 'bus8', 'buses', 'busetop', 'business', 'busty', 'busy', 'but', 'butt', 'buttheres', 'butting', 'buy', 'buyer', 'buyers', 'buying', 'buz', 'buzy', 'buzz', 'buzzzz', 'bw', 'bx', 'bx420', 'bx526', 'by', 'bye', 'c52', 'cab', 'cabin', 'cable', 'cafe', 'cake', 'cal', 'calculated', 'calculation', 'cali', 'calicut', 'california', 'call', 'call09050000327', 'call2optout', 'callback', 'callcost', 'calld', 'called', 'caller', 'callers', 'callertune', 'callfreefone', 'callin', 'calling', 'callon', 'calls', 'calls1', 'calm', 'cam', 'camcorder', 'came', 'camera', 'campus', 'can', 'canada', 'canal', 'canary', 'cancel', 'canceled', 'cancelled', 'cancer', 'canlove', 'cann', 'canname', 'cannot', 'cant', 'cantdo', 'capacity', 'capital', 'cappuccino', 'caps', 'captain', 'captaining', 'car', 'card', 'cardiff', 'cardin', 'cards', 'care', 'careabout', 'cared', 'career', 'careers', 'careful', 'carefully', 'careless', 'cares', 'caring', 'carlie', 'carlin', 'carlos', 'carly', 'carolina', 'caroline', 'carpark', 'carry', 'cars', 'cartons', 'cartoon', 'case', 'cash', 'cashbin', 'cashed', 'cashto', 'casing', 'cast', 'casting', 'castor', 'casualty', 'cat', 'catch', 'catches', 'catching', 'categories', 'caught', 'cause', 'causing', 'cave', 'caveboy', 'cbe', 'cc', 'cc100p', 'ccna', 'cd', 'cdgt', 'cds', 'cedar', 'ceiling', 'celeb', 'celebrate', 'celebrated', 'celebration', 'cell', 'census', 'center', 'centre', 'cer', 'ceri', 'certainly', 'certificate', 'cha', 'chachi', 'chad', 'chain', 'challenge', 'challenging', 'champ', 'champlaxigating', 'champneys', 'chance', 'change', 'changed', 'changes', 'changing', 'channel', 'chapel', 'chaps', 'character', 'characters', 'charge', 'charged', 'charges', 'charity', 'charles', 'charming', 'chart', 'charts', 'chase', 'chasing', 'chastity', 'chat', 'chat80155', 'chatlines', 'chatter', 'chatting', 'cheap', 'cheaper', 'cheat', 'cheating', 'chechi', 'check', 'checkboxes', 'checked', 'checking', 'checkmate', 'checkup', 'cheek', 'cheer', 'cheered', 'cheers', 'cheery', 'cheese', 'cheetos', 'chef', 'chennai', 'cherish', 'cherthala', 'chess', 'chest', 'chex', 'chez', 'chg', 'chick', 'chicken', 'chief', 'chik', 'chikku', 'child', 'childish', 'childporn', 'children', 'chile', 'chill', 'chillin', 'china', 'chinatown', 'chinchillas', 'chinese', 'chinky', 'chinnu', 'chip', 'chit', 'chk', 'chloe', 'chocolate', 'choice', 'choices', 'choose', 'choosing', 'chop', 'chords', 'chores', 'chosen', 'christ', 'christians', 'christmas', 'chuck', 'church', 'ciao', 'cine', 'cinema', 'citizen', 'city', 'citylink', 'cl', 'claim', 'claire', 'clarification', 'clarify', 'clark', 'clash', 'class', 'classmates', 'claypot', 'cld', 'clean', 'cleaning', 'clear', 'cleared', 'clearer', 'clearing', 'clearly', 'clever', 'click', 'cliff', 'clock', 'clocks', 'clos1', 'close', 'closed', 'closer', 'closes', 'cloth', 'clothes', 'cloud', 'clover', 'club', 'club4', 'club4mobiles', 'clubsaisai', 'clue', 'cm', 'cm2', 'cme', 'cmon', 'cn', 'cnl', 'cnn', 'cnupdates', 'co', 'coach', 'coast', 'coca', 'coccooning', 'cochin', 'cock', 'cocksuckers', 'coco', 'code', 'coffee', 'coimbatore', 'coin', 'coincidence', 'coins', 'cola', 'cold', 'colin', 'collages', 'collapsed', 'colleagues', 'collect', 'collected', 'collecting', 'collection', 'colleg', 'college', 'color', 'colour', 'colours', 'com', 'com1win150ppmx3age16', 'combination', 'come', 'comedy', 'comes', 'comfey', 'comfort', 'comin', 'coming', 'comingdown', 'command', 'comment', 'commercial', 'commit', 'common', 'community', 'como', 'comp', 'companies', 'companion', 'company', 'compare', 'compass', 'competition', 'complain', 'complaining', 'complaint', 'complementary', 'complete', 'completed', 'completely', 'completes', 'completing', 'complimentary', 'compliments', 'comprehensive', 'compromised', 'compulsory', 'computer', 'computerless', 'comuk', 'concentrate', 'concentrating', 'concert', 'condition', 'conditions', 'conducts', 'conected', 'conference', 'confidence', 'configure', 'confirm', 'confirmd', 'confirmed', 'confused', 'congrats', 'congratulations', 'connect', 'connected', 'connection', 'connections', 'cons', 'consensus', 'consent', 'conserve', 'consider', 'considering', 'consistently', 'console', 'constant', 'constantly', 'contact', 'contacted', 'contacts', 'contains', 'content', 'contented', 'contention', 'continent', 'continue', 'continued', 'contract', 'control', 'convenience', 'conversations', 'converted', 'converter', 'convey', 'conveying', 'convince', 'convinced', 'convincing', 'cook', 'cooked', 'cookies', 'cooking', 'cool', 'cooperative', 'copies', 'coping', 'cops', 'copy', 'cornwall', 'corporation', 'corrct', 'correct', 'correction', 'correctly', 'corvettes', 'cos', 'cosign', 'cost', 'costa', 'costing', 'costs', 'costumes', 'couch', 'cough', 'could', 'coulda', 'couldn', 'count', 'countinlots', 'country', 'counts', 'coupla', 'couple', 'courage', 'courageous', 'course', 'court', 'courtroom', 'cousin', 'cover', 'coveragd', 'covers', 'coz', 'cozy', 'cps', 'cr', 'cr01327bt', 'cr9', 'crab', 'crack', 'craigslist', 'cramps', 'crap', 'crash', 'crashed', 'crashing', 'crave', 'craving', 'craziest', 'crazy', 'crazyin', 'crckt', 'cream', 'created', 'creativity', 'credit', 'credited', 'credits', 'creep', 'creepy', 'cres', 'cribbs', 'cricketer', 'crickiting', 'cried', 'crisis', 'cro1327', 'cross', 'crossing', 'crowd', 'croydon', 'crucify', 'cruel', 'cruise', 'cruisin', 'crushes', 'cry', 'cs', 'csbcm4235wc1n3xx', 'csc', 'cst', 'cstore', 'ctagg', 'ctargg', 'cts', 'cttargg', 'ctter', 'cttergg', 'ctxt', 'cud', 'cuddle', 'cuddled', 'cuddling', 'culdnt', 'cultures', 'cum', 'cumin', 'cumming', 'cup', 'cupboard', 'curfew', 'curious', 'current', 'currently', 'curry', 'cust', 'custcare', 'custom', 'customer', 'customers', 'customersqueries', 'cut', 'cute', 'cutefrnd', 'cutest', 'cutter', 'cutting', 'cuz', 'cw25wx', 'cyclists', 'cysts', 'da', 'daaaaa', 'dabbles', 'dad', 'daddy', 'dads', 'dai', 'daily', 'dammit', 'damn', 'dan', 'dance', 'dancin', 'dancing', 'dane', 'dang', 'danger', 'dao', 'dare', 'dark', 'darker', 'darkest', 'darkness', 'darlin', 'darling', 'darlings', 'darren', 'dartboard', 'das', 'dat', 'data', 'date', 'datebox1282essexcm61xn', 'dates', 'dating', 'dats', 'datz', 'dave', 'dawns', 'day', 'days', 'daytime', 'daywith', 'db', 'dbuk', 'dd', 'de', 'dead', 'deal', 'dealer', 'dealing', 'deals', 'dear', 'dear1', 'dearer', 'dearly', 'death', 'debating', 'decades', 'december', 'decent', 'decide', 'decided', 'deciding', 'decimal', 'decision', 'decisions', 'deck', 'decking', 'dedicate', 'dedicated', 'deduct', 'deep', 'deepak', 'deepest', 'deeraj', 'def', 'defeat', 'defer', 'definite', 'definitely', 'definitly', 'defo', 'degrees', 'dehydrated', 'del', 'delay', 'delayed', 'delete', 'deleted', 'delhi', 'delicious', 'deliver', 'delivered', 'deliveredtomorrow', 'delivery', 'deltomorrow', 'deluxe', 'dem', 'demand', 'den', 'dena', 'dengra', 'denis', 'dent', 'dental', 'dentist', 'dentists', 'deny', 'denying', 'department', 'dependable', 'dependents', 'depends', 'deposit', 'depression', 'derek', 'describe', 'description', 'desert', 'deserve', 'designation', 'desires', 'desk', 'desparate', 'desparately', 'desperate', 'despite', 'dessert', 'detailed', 'details', 'determine', 'determined', 'detroit', 'deus', 'develop', 'developed', 'developer', 'device', 'devils', 'devouring', 'dey', 'dhanush', 'dhina', 'dhoni', 'dhorte', 'di', 'dial', 'dialling', 'dialogue', 'diamonds', 'diapers', 'dice', 'dick', 'dict', 'dictionary', 'did', 'didn', 'didnt', 'didntgive', 'die', 'died', 'diet', 'dieting', 'diff', 'difference', 'differences', 'different', 'difficult', 'difficulties', 'dificult', 'digi', 'digital', 'dignity', 'dileep', 'dimension', 'din', 'dine', 'dined', 'ding', 'dinner', 'dint', 'dip', 'dippeditinadew', 'direct', 'directly', 'director', 'dirt', 'dirtiest', 'dirty', 'dis', 'disagreeable', 'disappeared', 'disappointment', 'disaster', 'disasters', 'disclose', 'disconnect', 'disconnected', 'discount', 'discreet', 'discuss', 'discussed', 'diseases', 'dislikes', 'dismissial', 'display', 'distance', 'distract', 'disturb', 'disturbance', 'disturbing', 'ditto', 'divert', 'division', 'divorce', 'diwali', 'dizzamn', 'dizzee', 'dl', 'dled', 'dlf', 'dload', 'dnt', 'do', 'dob', 'dobby', 'doc', 'dock', 'docks', 'docs', 'doctor', 'documents', 'does', 'doesdiscount', 'doesn', 'doesnt', 'dog', 'dogbreath', 'dogg', 'doggin', 'dogging', 'doggy', 'dogs', 'dogwood', 'doin', 'doinat', 'doing', 'dokey', 'dollar', 'dollars', 'dolls', 'dom', 'domain', 'don', 'donate', 'done', 'donno', 'dont', 'dontcha', 'dontignore', 'dontmatter', 'dontplease', 'dooms', 'door', 'doors', 'dorm', 'dormitory', 'dorothy', 'dose', 'dosomething', 'dot', 'double', 'doublemins', 'doubles', 'doubletxt', 'doubt', 'doug', 'down', 'download', 'downloaded', 'downloads', 'downon', 'downstem', 'dps', 'dr', 'dracula', 'drama', 'dramastorm', 'dramatic', 'drastic', 'draw', 'draws', 'dreading', 'dream', 'dreams', 'dreamz', 'dress', 'dresser', 'drink', 'drinkin', 'drinking', 'drinks', 'drive', 'driver', 'drivin', 'driving', 'drizzling', 'drms', 'drop', 'dropped', 'drove', 'drpd', 'drug', 'drugdealer', 'drugs', 'drunk', 'drunkard', 'drunken', 'drvgsto', 'dry', 'dt', 'dual', 'dub', 'dubsack', 'duchess', 'ducking', 'dude', 'dudes', 'dudette', 'due', 'duffer', 'dull', 'dumb', 'dun', 'dungerees', 'dunno', 'duo', 'durban', 'during', 'dusk', 'duvet', 'dvd', 'dvg', 'dwn', 'dysentry', 'e14', 'each', 'eachother', 'ear', 'earlier', 'earliest', 'early', 'earn', 'ears', 'earth', 'easier', 'easily', 'east', 'eastenders', 'easter', 'easy', 'eat', 'eaten', 'eatin', 'eating', 'ebay', 'ec2a', 'echo', 'eckankar', 'ecstacy', 'ecstasy', 'ed', 'edge', 'edhae', 'edison', 'edu', 'education', 'educational', 'edukkukayee', 'edwards', 'eek', 'eerie', 'effect', 'effects', 'efficient', 'efreefone', 'eg', 'egbon', 'egg', 'eggs', 'ego', 'eh', 'eight', 'eighth', 'eightish', 'eire', 'either', 'ela', 'elaborate', 'elama', 'elaya', 'eldest', 'election', 'elections', 'eleven', 'ello', 'else', 'elsewhere', 'elvis', 'em', 'email', 'embarassed', 'embarassing', 'embarrassed', 'embassy', 'emerging', 'emily', 'employee', 'employer', 'empty', 'en', 'end', 'ended', 'ending', 'endless', 'ends', 'enemies', 'enemy', 'energy', 'eng', 'engaged', 'engagement', 'england', 'english', 'enjoy', 'enjoyed', 'enjoyin', 'enketa', 'ennal', 'enough', 'enter', 'entered', 'entertain', 'entertaining', 'entire', 'entirely', 'entitled', 'entrepreneurs', 'entropication', 'entry', 'entry41', 'enuff', 'envelope', 'environment', 'epi', 'epsilon', 'equally', 'er', 'ere', 'ericsson', 'erm', 'erode', 'erotic', 'err', 'error', 'errors', 'ertini', 'eruku', 'erupt', 'erutupalam', 'esaplanade', 'escape', 'ese', 'eshxxxxxxxxxxx', 'espe', 'especially', 'esplanade', 'essential', 'establish', 'eta', 'etc', 'ethnicity', 'euro', 'euro2004', 'eurodisinc', 'europe', 'evaporated', 'eve', 'eveb', 'even', 'evening', 'evenings', 'event', 'events', 'ever', 'every', 'everybody', 'everyday', 'everyone', 'everyones', 'everyso', 'everything', 'everytime', 'everywhere', 'eviction', 'evil', 'evn', 'evng', 'evo', 'evone', 'evr', 'evrey', 'evry1', 'evrydy', 'ew', 'ex', 'exact', 'exactly', 'exam', 'exams', 'excellent', 'except', 'excited', 'exciting', 'excuse', 'excused', 'excuses', 'exe', 'executive', 'exeter', 'exhaust', 'exhausted', 'exhibition', 'exist', 'exmpel', 'exorcism', 'exorcist', 'exp', 'expect', 'expecting', 'expects', 'expensive', 'experience', 'experiment', 'expert', 'expired', 'expires', 'expiry', 'explain', 'explicit', 'explicitly', 'explosive', 'exposed', 'exposes', 'express', 'expression', 'expressoffer', 'ext', 'exterminator', 'extra', 'extract', 'ey', 'eyed', 'eyes', 'fa', 'fab', 'faber', 'face', 'facebook', 'facilities', 'fact', 'factory', 'facts', 'faded', 'faggot', 'faggy', 'faglord', 'failed', 'fails', 'fair', 'fake', 'fakeye', 'fal', 'falconerf', 'fall', 'fallen', 'falling', 'falls', 'fals', 'famamus', 'family', 'famous', 'fan', 'fancied', 'fancies', 'fancy', 'fans', 'fantasies', 'fantastic', 'fantasy', 'far', 'farm', 'farrell', 'farting', 'fassyole', 'fast', 'faster', 'fastest', 'fat', 'father', 'fathima', 'fats', 'fatty', 'fault', 'fav', 'fave', 'favor', 'favorite', 'favour', 'favourite', 'fb', 'fear', 'feathery', 'features', 'feb', 'february', 'fed', 'feed', 'feel', 'feelin', 'feeling', 'feels', 'fees', 'feet', 'fell', 'fellow', 'felt', 'female', 'feng', 'fetch', 'fetching', 'fever', 'few', 'fffff', 'ffffffffff', 'ffffuuuuuuu', 'fgkslpo', 'fgkslpopw', 'fidalfication', 'field', 'fieldof', 'fiend', 'fifa', 'fifteen', 'fifth', 'fight', 'fighting', 'fightng', 'fights', 'figure', 'figures', 'figuring', 'file', 'fill', 'filled', 'filling', 'fills', 'film', 'films', 'filth', 'filthy', 'filthyguys', 'final', 'finalise', 'finally', 'finance', 'financial', 'find', 'finding', 'fine', 'finest', 'fingers', 'finish', 'finished', 'finishes', 'finishing', 'fink', 'fire', 'fired', 'firefox', 'fireplace', 'fires', 'first', 'fish', 'fishhead', 'fit', 'five', 'fix', 'fixd', 'fixed', 'fixedline', 'fixes', 'fizz', 'flag', 'flaked', 'flaky', 'flame', 'flash', 'flat', 'flatter', 'flavour', 'flea', 'flew', 'flies', 'flight', 'flights', 'flim', 'flip', 'flippin', 'flirt', 'flirting', 'floating', 'flood', 'floor', 'floppy', 'flow', 'flower', 'flowing', 'flung', 'flute', 'fly', 'flyng', 'fml', 'fo', 'fold', 'follow', 'followed', 'followin', 'following', 'follows', 'fondly', 'fone', 'foned', 'fones', 'fonin', 'food', 'fool', 'fooled', 'foot', 'football', 'footbl', 'footie', 'footprints', 'footy', 'for', 'force', 'forced', 'foregate', 'foreign', 'forever', 'forevr', 'forfeit', 'forget', 'forgets', 'forgiven', 'forgiveness', 'forgot', 'forgt', 'form', 'formal', 'formally', 'format', 'formatting', 'forms', 'fortune', 'forum', 'forums', 'forward', 'forwarded', 'forwarding', 'found', 'foundurself', 'fourth', 'foward', 'fowler', 'fox', 'fr', 'fraction', 'fran', 'frankie', 'franxx', 'franyxxxxx', 'frauds', 'freak', 'freaking', 'freaky', 'fredericksburg', 'free', 'free2day', 'freedom', 'freeentry', 'freefone', 'freemsg', 'freephone', 'freezing', 'freinds', 'fren', 'french', 'frens', 'frequently', 'fresh', 'fret', 'fri', 'friday', 'fridays', 'fridge', 'fried', 'friend', 'friends', 'friendsare', 'friendship', 'friendships', 'fring', 'fringe', 'frm', 'frmcloud', 'frnd', 'frnds', 'frndship', 'frndsship', 'frndz', 'frog', 'from', 'fromm', 'fromwrk', 'front', 'frontierville', 'fruit', 'frying', 'ft', 'fuck', 'fucked', 'fuckin', 'fucking', 'fucks', 'fudge', 'fujitsu', 'ful', 'full', 'fullonsms', 'fumbling', 'fun', 'function', 'functions', 'fund', 'fundamentals', 'funeral', 'funk', 'funky', 'funny', 'furniture', 'further', 'fusion', 'future', 'fuuuuck', 'fwiw', 'fyi', 'g696ga', 'ga', 'gage', 'gail', 'gailxx', 'gain', 'gained', 'gal', 'galileo', 'gals', 'gam', 'gamb', 'game', 'games', 'gamestar', 'gang', 'gap', 'gaps', 'garage', 'garbage', 'garden', 'gardener', 'garments', 'gary', 'gas', 'gastroenteritis', 'gate', 'gauge', 'gautham', 'gauti', 'gave', 'gay', 'gayle', 'gays', 'gaytextbuddy', 'gbp', 'gbp1', 'gbp5', 'gd', 'gdeve', 'ge', 'gee', 'geeee', 'geeeee', 'gei', 'gek1510', 'gender', 'general', 'generally', 'genes', 'genius', 'gent', 'gentle', 'gentleman', 'gently', 'genuine', 'genus', 'geoenvironmental', 'george', 'ger', 'germany', 'get', 'get4an18th', 'getiing', 'geting', 'gets', 'getsleep', 'getstop', 'gettin', 'getting', 'getzed', 'gf', 'ghodbandar', 'ghost', 'gibbs', 'gibe', 'gift', 'gifted', 'gifts', 'gigolo', 'gimme', 'gimmi', 'gin', 'girl', 'girlfrnd', 'girlie', 'girls', 'gist', 'giv', 'give', 'gives', 'giving', 'glad', 'glands', 'glasgow', 'glass', 'global', 'glory', 'gloucesterroad', 'gm', 'gmw', 'gn', 'gnarls', 'gnt', 'gnun', 'go', 'go2', 'go2sri', 'goal', 'goals', 'gobi', 'god', 'gods', 'goes', 'goggles', 'goin', 'going', 'gokila', 'gold', 'golddigger', 'golden', 'goldviking', 'golf', 'gon', 'gona', 'gone', 'gong', 'gonna', 'gonnamissu', 'good', 'goodevening', 'goodfriend', 'goodies', 'goodmate', 'goodmorning', 'goodnight', 'goodnite', 'goodnoon', 'goodo', 'goods', 'google', 'gopalettan', 'gorgeous', 'goss', 'gossip', 'got', 'gota', 'gotbabes', 'goto', 'gotta', 'gotten', 'gotto', 'goverment', 'govt', 'gower', 'gprs', 'gpu', 'gr8', 'gr8fun', 'grab', 'grace', 'graduated', 'grahmbell', 'gram', 'grand', 'grandfather', 'grandmas', 'granite', 'graphics', 'grasp', 'grateful', 'grave', 'gravel', 'gravity', 'gray', 'grazed', 'gre', 'great', 'greatest', 'green', 'greet', 'greeting', 'greetings', 'grinder', 'grins', 'grinule', 'grocers', 'grooved', 'groovy', 'groovying', 'ground', 'group', 'grow', 'growing', 'grown', 'grownup', 'grr', 'grumble', 'grumpy', 'gsex', 'gsoh', 'gt', 'gua', 'guai', 'guarantee', 'guaranteed', 'gucci', 'gud', 'gudni8', 'gudnite', 'gudnyt', 'guess', 'guessed', 'guessin', 'guessing', 'guidance', 'guide', 'guides', 'guilty', 'guitar', 'gumby', 'guoyang', 'gurl', 'gut', 'guy', 'guys', 'gv', 'gving', 'gym', 'gymnastics', 'gynae', 'gyno', 'ha', 'habba', 'habit', 'hack', 'had', 'hadn', 'haf', 'haha', 'hahaha', 'hai', 'hail', 'hair', 'haircut', 'haiyoh', 'haiz', 'half', 'half8th', 'hall', 'halla', 'hallaq', 'halloween', 'ham', 'hamper', 'hamster', 'hand', 'handed', 'handle', 'hands', 'handset', 'handsome', 'handsomes', 'hang', 'hanger', 'hangin', 'hanging', 'hanks', 'hannaford', 'happen', 'happend', 'happened', 'happening', 'happens', 'happier', 'happiest', 'happily', 'happiness', 'happy', 'hard', 'hardcore', 'harder', 'hardest', 'hari', 'harish', 'harri', 'harry', 'has', 'hasbro', 'hasn', 'hasnt', 'hassling', 'hat', 'hate', 'hates', 'haughaighgtujhyguj', 'haul', 'haunt', 'hav', 'hav2hear', 'hava', 'have', 'haven', 'havent', 'haventcn', 'havin', 'having', 'havn', 'havnt', 'hdd', 'he', 'head', 'headache', 'headin', 'heading', 'heads', 'headset', 'heal', 'healer', 'healthy', 'hear', 'heard', 'hearin', 'hearing', 'heart', 'hearted', 'hearts', 'heater', 'heaven', 'heavily', 'heavy', 'hectic', 'hee', 'heehee', 'hehe', 'height', 'held', 'helens', 'hell', 'hella', 'hello', 'helloooo', 'help', 'help08700621170150p', 'help08718728876', 'helpful', 'helping', 'helpline', 'helps', 'heltini', 'hen', 'hence', 'henry', 'hep', 'her', 'here', 'heroes', 'heron', 'herself', 'hes', 'hesitant', 'hesitate', 'hesitation', 'hex', 'hey', 'hf8', 'hg', 'hhahhaahahah', 'hi', 'hidden', 'hide', 'hides', 'high', 'hilarious', 'hill', 'hillsborough', 'him', 'himso', 'hint', 'hip', 'hiphop', 'hire', 'his', 'history', 'hit', 'hitler', 'hitman', 'hitter', 'hiya', 'hl', 'hlp', 'hm', 'hme', 'hmm', 'hmmm', 'hmmmm', 'hmmross', 'hmph', 'hmv', 'hmv1', 'ho', 'hockey', 'hogidhe', 'hol', 'hold', 'holder', 'holding', 'holiday', 'holla', 'hollalater', 'hols', 'holy', 'home', 'homeowners', 'hon', 'honest', 'honestly', 'honesty', 'honey', 'honeybee', 'honeymoon', 'hont', 'hoo', 'hooch', 'hoody', 'hook', 'hoops', 'hop', 'hope', 'hoped', 'hopefully', 'hopeing', 'hoping', 'horniest', 'horny', 'horo', 'horrible', 'horse', 'hos', 'hospital', 'hospitals', 'host', 'hostel', 'hostile', 'hot', 'hotel', 'hotels', 'hottest', 'hour', 'hourish', 'hours', 'house', 'housewives', 'housing', 'how', 'howard', 'howdy', 'however', 'hows', 'howu', 'howz', 'hp', 'hp20', 'hppnss', 'hr', 'hrishi', 'hrs', 'hsbc', 'http', 'hu', 'hubby', 'hudgi', 'hug', 'huge', 'hugh', 'hugs', 'huh', 'hui', 'huiming', 'hum', 'humanities', 'hun', 'hundreds', 'hungover', 'hungry', 'hunks', 'hunny', 'hunt', 'hurricanes', 'hurried', 'hurry', 'hurt', 'hurting', 'hurts', 'husband', 'hussey', 'hv', 'hvae', 'hw', 'hyde', 'hype', 'hypertension', 'hypotheticalhuagauahahuagahyuhagga', 'iam', 'ias', 'ibh', 'ibhltd', 'ibiza', 'ibm', 'ibn', 'ibored', 'ibuprofens', 'ic', 'iccha', 'ice', 'icic', 'icicibank', 'icmb3cktz8r7', 'icon', 'id', 'idc', 'idea', 'ideal', 'ideas', 'identification', 'identifier', 'idew', 'idiot', 'idk', 'idps', 'ie', 'if', 'ig11', 'ignorant', 'ignore', 'ignoring', 'ijust', 'ikea', 'ikno', 'iknow', 'il', 'ill', 'illness', 'illspeak', 'ilol', 'im', 'image', 'imagination', 'imagine', 'imat', 'img', 'imin', 'imma', 'immed', 'immediately', 'immunisation', 'imp', 'impatient', 'impede', 'implications', 'important', 'importantly', 'imposed', 'impossible', 'impress', 'impression', 'improve', 'improved', 'in', 'in2', 'inc', 'inch', 'inches', 'incident', 'inclu', 'include', 'includes', 'including', 'inclusive', 'incomm', 'inconsiderate', 'inconvenience', 'incorrect', 'increase', 'incredible', 'increments', 'indeed', 'independently', 'index', 'india', 'indian', 'indians', 'indicate', 'individual', 'indyarocks', 'inever', 'infact', 'infections', 'infernal', 'influx', 'info', 'inform', 'information', 'informed', 'infra', 'infront', 'ing', 'ingredients', 'initiate', 'ink', 'inlude', 'inmind', 'inner', 'innings', 'innocent', 'innu', 'inperialmusic', 'inpersonation', 'inr', 'insects', 'insha', 'inshah', 'inside', 'inspection', 'inst', 'installing', 'instant', 'instantly', 'instead', 'instituitions', 'instructions', 'insurance', 'intelligent', 'intend', 'intention', 'interest', 'interested', 'interesting', 'interfued', 'internal', 'internet', 'interview', 'interviews', 'interviw', 'intha', 'into', 'intrepid', 'intro', 'intrude', 'invaders', 'invention', 'invest', 'investigate', 'invitation', 'invite', 'invited', 'inviting', 'invnted', 'involve', 'involved', 'iouri', 'ip4', 'ipad', 'ipaditan', 'ipads', 'iphone', 'ipod', 'iq', 'iraq', 'irene', 'iriver', 'iron', 'ironing', 'irritated', 'irritates', 'irritating', 'irritation', 'irulinae', 'is', 'isaiah', 'iscoming', 'ish', 'island', 'islands', 'isn', 'isnt', 'issue', 'issues', 'isv', 'it', 'italian', 'itcould', 'items', 'iter', 'itried2tell', 'its', 'itself', 'itwhichturnedinto', 'itxt', 'itz', 'ive', 'iwana', 'iwas', 'iyo', 'iz', 'izzit', 'j5q', 'j89', 'jack', 'jacket', 'jackpot', 'jackson', 'jacuzzi', 'jada', 'jade', 'jaklin', 'jam', 'james', 'jamster', 'jan', 'jane', 'janinexx', 'january', 'janx', 'jap', 'japanese', 'jas', 'jason', 'java', 'jay', 'jaya', 'jaykwon', 'jazz', 'jb', 'jd', 'je', 'jealous', 'jeans', 'jeetey', 'jeevithathile', 'jen', 'jenny', 'jenxxx', 'jeremiah', 'jeri', 'jerk', 'jerry', 'jersey', 'jess', 'jesus', 'jet', 'jetton', 'jewelry', 'jez', 'ji', 'jia', 'jiayin', 'jiu', 'jjc', 'jo', 'joanna', 'job', 'jobyet', 'jog', 'jogging', 'john', 'join', 'joined', 'joining', 'joke', 'joker', 'jokes', 'jokin', 'joking', 'jolly', 'jolt', 'jones', 'jontin', 'jordan', 'jos', 'journey', 'joy', 'joys', 'jp', 'js', 'jsco', 'jst', 'jstfrnd', 'jsut', 'juan', 'judgemental', 'juicy', 'jul', 'jules', 'juliana', 'julianaland', 'july', 'jump', 'jumpers', 'june', 'jungle', 'junna', 'jurong', 'jus', 'just', 'justify', 'juswoke', 'juz', 'k52', 'k718', 'kaaj', 'kadeem', 'kaiez', 'kaila', 'kalainar', 'kallis', 'kalstiya', 'kama', 'kanagu', 'kane', 'kanji', 'kano', 'karaoke', 'karnan', 'kate', 'katexxx', 'kath', 'kavalan', 'kay', 'kaypoh', 'kb', 'ke', 'keep', 'keeping', 'keeps', 'kegger', 'ken', 'kent', 'kept', 'kerala', 'keralacircle', 'kettoda', 'key', 'keypad', 'keys', 'keyword', 'kg', 'khelate', 'kicchu', 'kick', 'kickboxing', 'kickoff', 'kicks', 'kid', 'kidding', 'kids', 'kidz', 'kiefer', 'kill', 'killed', 'killing', 'kills', 'kilos', 'kind', 'kinda', 'kindly', 'king', 'kingdom', 'kintu', 'kiosk', 'kisi', 'kiss', 'kisses', 'kit', 'kitty', 'kl341', 'knackered', 'knee', 'knees', 'knew', 'knickers', 'knocking', 'know', 'knowing', 'known', 'knows', 'knw', 'ko', 'kolathupalayam', 'konw', 'korche', 'korli', 'korte', 'kotees', 'kothi', 'kr', 'kuch', 'kudi', 'kusruthi', 'kvb', 'l8', 'l8er', 'l8r', 'l8tr', 'la', 'la1', 'la3', 'la32wu', 'lab', 'labor', 'lacking', 'lacs', 'laden', 'ladies', 'lady', 'lag', 'lage', 'laid', 'lakhs', 'lambda', 'lambu', 'lancaster', 'land', 'landline', 'landlineonly', 'landlines', 'landmark', 'lands', 'langport', 'language', 'lanka', 'lanre', 'laptop', 'lar', 'lara', 'laready', 'large', 'largest', 'lark', 'lasagna', 'last', 'lastest', 'lasting', 'late', 'lately', 'later', 'latest', 'latests', 'latr', 'laugh', 'laughed', 'laughing', 'laughs', 'laundry', 'laurie', 'lautech', 'lavender', 'law', 'laxinorficated', 'lay', 'lays', 'lazy', 'lccltd', 'ldew', 'ldn', 'ldnw15h', 'le', 'lead', 'leadership', 'leading', 'leads', 'leaf', 'leafcutter', 'leanne', 'learn', 'least', 'least5times', 'leave', 'leaves', 'leaving', 'lect', 'lecture', 'left', 'legal', 'legitimat', 'legs', 'leh', 'lei', 'lekdog', 'lemme', 'length', 'lengths', 'lennon', 'leona', 'leonardo', 'les', 'less', 'lesser', 'lesson', 'lessons', 'let', 'lets', 'letter', 'letters', 'level', 'lf56', 'liao', 'lib', 'libertines', 'library', 'lick', 'licks', 'lido', 'lie', 'lies', 'life', 'lifeis', 'lifetime', 'lifpartnr', 'lift', 'lifting', 'light', 'lighters', 'lightly', 'lik', 'like', 'liked', 'likely', 'likes', 'likeyour', 'lil', 'lily', 'limit', 'limited', 'limiting', 'limits', 'lindsay', 'line', 'linear', 'lined', 'linerental', 'lines', 'lingo', 'link', 'links', 'linux', 'lion', 'lionm', 'lionp', 'lions', 'lip', 'lipo', 'lips', 'list', 'listed', 'listen', 'listened2the', 'listener', 'listening', 'listening2the', 'listn', 'lit', 'literally', 'litres', 'little', 'live', 'lived', 'liver', 'liverpool', 'lives', 'living', 'lkpobox177hp51fl', 'll', 'llc', 'llspeak', 'lmao', 'lnly', 'lo', 'loads', 'loan', 'loans', 'local', 'location', 'locations', 'locaxx', 'lock', 'lodge', 'lodging', 'log', 'logged', 'logging', 'login', 'logo', 'logon', 'logos', 'lol', 'lolnice', 'lololo', 'londn', 'london', 'loneliness', 'lonely', 'long', 'longer', 'lonlines', 'loo', 'look', 'looked', 'lookin', 'looking', 'looks', 'lool', 'loooooool', 'looovvve', 'loose', 'loosing', 'loosu', 'lor', 'lord', 'lose', 'losers', 'loses', 'losing', 'loss', 'lost', 'lot', 'lotr', 'lots', 'lotsly', 'lotta', 'lotto', 'lotz', 'lou', 'loud', 'lounge', 'lousy', 'lov', 'lovable', 'love', 'loved', 'lovejen', 'lovely', 'loveme', 'lover', 'loverboy', 'lovers', 'loves', 'lovin', 'loving', 'lovingly', 'lovly', 'low', 'lower', 'loxahatchee', 'loyal', 'loyalty', 'ls1', 'ls278bb', 'lst', 'lt', 'ltd', 'ltdhelpdesk', 'lttrs', 'lubly', 'luck', 'luckily', 'lucky', 'lucozade', 'lucy', 'lucyxx', 'lunch', 'lunsford', 'lush', 'luton', 'luv', 'luvs', 'lux', 'luxury', 'lv', 'lvblefrnd', 'lyf', 'lyfu', 'lying', 'lyk', 'lyricalladie', 'm100', 'm221bp', 'm227xy', 'm26', 'm263uz', 'm6', 'm60', 'm8', 'm8s', 'm95', 'ma', 'maaaan', 'maangalyam', 'maat', 'mac', 'macha', 'machan', 'machi', 'macho', 'mack', 'macleran', 'macs', 'mad', 'mad1', 'mad2', 'madam', 'made', 'madodu', 'mag', 'maga', 'magazine', 'maggi', 'magicalsongs', 'mah', 'mahal', 'maid', 'mail', 'mailbox', 'mailed', 'mails', 'main', 'maintain', 'maintaining', 'major', 'make', 'makes', 'makiing', 'makin', 'making', 'malaria', 'malarky', 'male', 'mall', 'mallika', 'man', 'manage', 'manageable', 'managed', 'management', 'manchester', 'manda', 'mandan', 'mandara', 'maneesha', 'manege', 'mango', 'maniac', 'manky', 'manual', 'many', 'map', 'mapquest', 'maps', 'maraikara', 'marandratha', 'march', 'margaret', 'margin', 'marine', 'mark', 'market', 'marketing', 'marking', 'marley', 'marriage', 'married', 'marry', 'marsms', 'marvel', 'mary', 'mas', 'massage', 'massages', 'massive', 'masteriastering', 'masters', 'mat', 'match', 'matches', 'mate', 'mates', 'math', 'mathematics', 'mathews', 'matrix3', 'matter', 'matthew', 'matured', 'maturity', 'max', 'max10mins', 'max6', 'maximize', 'may', 'mayb', 'maybe', 'mb', 'mca', 'mcat', 'me', 'meal', 'mean', 'meaning', 'meaningful', 'meaningless', 'means', 'meant', 'meanwhile', 'measure', 'meat', 'mecause', 'med', 'medical', 'medicine', 'meds', 'mee', 'meet', 'meetin', 'meeting', 'meetins', 'meets', 'meg', 'mega', 'meh', 'mei', 'mel', 'melle', 'melody', 'melt', 'member', 'members', 'membership', 'memorable', 'memories', 'memory', 'men', 'mens', 'mental', 'mention', 'mentioned', 'mentionned', 'mentor', 'menu', 'meow', 'merely', 'merememberin', 'merry', 'mesages', 'mess', 'message', 'messaged', 'messages', 'messaging', 'messed', 'messenger', 'messy', 'met', 'mf', 'mi', 'michael', 'mid', 'middle', 'midnight', 'mids', 'might', 'miiiiiiissssssssss', 'mike', 'mila', 'miles', 'milk', 'millers', 'million', 'millions', 'milta', 'min', 'mina', 'minapn', 'mind', 'minded', 'mindset', 'mine', 'mini', 'minimum', 'minmobsmore', 'minmobsmorelkpobox177hp51fl', 'minmoremobsemspobox45po139wa', 'minnaminunginte', 'minor', 'mins', 'minus', 'minute', 'minutes', 'minuts', 'miracle', 'mirror', 'mis', 'misbehaved', 'miserable', 'misfits', 'mising', 'misplaced', 'miss', 'misscall', 'missed', 'missin', 'missing', 'missionary', 'missunderstding', 'missy', 'mist', 'mistake', 'mistakes', 'misundrstud', 'mite', 'mitsake', 'mittelschmertz', 'miwa', 'mix', 'mjzgroup', 'mk17', 'mk45', 'mm', 'mmm', 'mmmm', 'mmmmm', 'mmmmmm', 'mmmmmmm', 'mns', 'mnth', 'mnths', 'mo', 'moan', 'mob', 'mobcudb', 'mobile', 'mobiles', 'mobilesdirect', 'mobilesvary', 'mobileupd8', 'mobno', 'mobs', 'mobsi', 'moby', 'mode', 'model', 'module', 'modules', 'mofo', 'moji', 'mojibiola', 'mokka', 'molested', 'mom', 'moment', 'moments', 'moms', 'mon', 'monday', 'money', 'monkeespeople', 'monkey', 'monkeyaround', 'monkeys', 'mono', 'monoc', 'monos', 'monster', 'month', 'monthly', 'monthlysubscription', 'months', 'mood', 'moon', 'moral', 'more', 'morefrmmob', 'morn', 'mornin', 'morning', 'morphine', 'morrow', 'moseley', 'most', 'mostly', 'mother', 'motherfucker', 'motivate', 'motivating', 'motive', 'motor', 'motorola', 'mouse', 'mouth', 'move', 'moved', 'moves', 'movie', 'movies', 'movietrivia', 'moving', 'mp3', 'mquiz', 'mr', 'mre', 'mrng', 'mrt', 'ms', 'msg', 'msg150p', 'msging', 'msgrcvd18', 'msgrcvdhg', 'msgs', 'mt', 'mtalk', 'mth', 'mths', 'mtmsg', 'mtmsg18', 'mtmsgrcvd18', 'mtnl', 'mu', 'muah', 'much', 'muchand', 'muchxxlove', 'mudyadhu', 'muhommad', 'multiply', 'mum', 'mumbai', 'mumhas', 'mummy', 'mums', 'mumtaz', 'mundhe', 'munsters', 'murali', 'murder', 'murdered', 'murderer', 'mus', 'mushy', 'music', 'musical', 'musicnews', 'must', 'musthu', 'muz', 'mw', 'my', 'mycalls', 'myparents', 'mys', 'myself', 'myspace', 'mystery', 'n8', 'n9dx', 'na', 'naal', 'nachos', 'nag', 'nagar', 'nah', 'nahi', 'nails', 'naked', 'nalla', 'name', 'name1', 'name2', 'named', 'names', 'nammanna', 'nan', 'nange', 'nannys', 'nap', 'narcotics', 'nasdaq', 'naseeb', 'nasty', 'nat', 'nat27081980', 'natalie', 'natalie2k9', 'natalja', 'national', 'nationwide', 'natural', 'nature', 'natwest', 'naughty', 'nauseous', 'nav', 'navigate', 'nb', 'nbme', 'nd', 'ndship', 'ne', 'near', 'nearly', 'necesity', 'necessary', 'necessity', 'neck', 'ned', 'need', 'needa', 'needed', 'needing', 'needle', 'needs', 'needy', 'neekunna', 'neft', 'negative', 'neglect', 'neighbors', 'neighbour', 'neither', 'nelson', 'neo69', 'nervous', 'neshanth', 'net', 'netcollex', 'netflix', 'nething', 'netun', 'netvision', 'network', 'networking', 'networks', 'neva', 'never', 'nevering', 'neville', 'nevr', 'new', 'neway', 'newest', 'newport', 'newquay', 'news', 'newscaster', 'newsletter', 'next', 'nhs', 'ni8', 'nic', 'nice', 'nichols', 'nick', 'nicky', 'nig', 'nigeria', 'nigh', 'night', 'nighters', 'nights', 'nigpun', 'nike', 'nikiyu4', 'nimbomsons', 'nimya', 'nipost', 'nit', 'nite', 'nitro', 'nitros', 'nitz', 'njan', 'nmde', 'no', 'no1', 'nobody', 'noe', 'noi', 'noice', 'noise', 'noisy', 'nok', 'nokia', 'nokia6600', 'nokia6650', 'nokias', 'noline', 'non', 'none', 'nonetheless', 'nookii', 'noon', 'nooooooo', 'noooooooo', 'nope', 'nora', 'nordstrom', 'norm', 'norm150p', 'normal', 'normally', 'north', 'northampton', 'nos', 'nosh', 'not', 'note', 'notebook', 'notes', 'nothin', 'nothing', 'notice', 'notifications', 'notified', 'notixiquating', 'nottingham', 'notxt', 'noun', 'novelty', 'november', 'now', 'nowadays', 'nowhere', 'nri', 'nt', 'nte', 'ntt', 'ntwk', 'nuclear', 'num', 'number', 'numbers', 'nursery', 'nurungu', 'nus', 'nusstu', 'nuther', 'nutter', 'nver', 'nvm', 'nw', 'nxt', 'ny', 'nyc', 'nydc', 'nyt', 'nytho', 'nz', 'o2', 'o2fwd', 'obedient', 'obey', 'oblisingately', 'oblivious', 'obviously', 'occasion', 'occupied', 'occupy', 'occur', 'occurs', 'ocean', 'odi', 'of', 'ofcourse', 'off', 'offc', 'offer', 'offered', 'offering', 'offers', 'office', 'officer', 'official', 'officially', 'ofice', 'ofsi', 'ofstuff', 'often', 'oga', 'ogunrinde', 'oh', 'oi', 'oic', 'oil', 'oja', 'ok', 'okay', 'okden', 'okey', 'okie', 'okies', 'okors', 'ola', 'olave', 'old', 'ollu', 'olol', 'olowoyey', 'olympics', 'omg', 'omw', 'on', 'onam', 'oncall', 'once', 'one', 'ones', 'oni', 'onion', 'online', 'only', 'onto', 'onwards', 'onwords', 'ooh', 'oooh', 'oops', 'open', 'opened', 'opener', 'openin', 'opening', 'openings', 'operate', 'operator', 'opinion', 'opinions', 'opponenter', 'opportunity', 'opps', 'opt', 'opted', 'optimistic', 'optin', 'option', 'optout', 'or', 'or2stoptxt', 'oral', 'orange', 'oranges', 'orc', 'orchard', 'order', 'ordered', 'oredi', 'oreo', 'oreos', 'org', 'organizer', 'orh', 'orig', 'original', 'orno', 'ors', 'ortxt', 'oru', 'oscar', 'oso', 'otbox', 'other', 'others', 'otherwise', 'othrs', 'otside', 'ou', 'ouch', 'our', 'out', 'outage', 'outages', 'outbid', 'outdoors', 'outfit', 'outfor', 'outgoing', 'outl8r', 'outreach', 'outs', 'outside', 'outsider', 'outsomewhere', 'outstanding', 'outta', 'ovarian', 'over', 'overdose', 'overemphasise', 'overheating', 'overtime', 'ovr', 'ovulate', 'ovulation', 'ow', 'owe', 'owed', 'own', 'owned', 'oxygen', 'oyster', 'oz', 'pa', 'pack', 'package', 'packs', 'page', 'pages', 'pai', 'paid', 'pain', 'painful', 'paining', 'painting', 'pairs', 'palm', 'panalam', 'panasonic', 'pandy', 'panic', 'panicks', 'panren', 'pansy', 'panther', 'panties', 'pap', 'papa', 'paper', 'papers', 'paperwork', 'paracetamol', 'parachute', 'paragon', 'paragraphs', 'paranoid', 'parchi', 'parco', 'parent', 'parents', 'paris', 'parish', 'park', 'parked', 'parkin', 'parking', 'part', 'participate', 'particular', 'partner', 'partnership', 'party', 'paru', 'pases', 'pass', 'passable', 'passed', 'passes', 'passion', 'passionate', 'password', 'passwords', 'past', 'pataistha', 'patent', 'path', 'pathaya', 'paths', 'patients', 'patrick', 'pattern', 'patty', 'paul', 'pause', 'pax', 'pay', 'payasam', 'payback', 'payed', 'payee', 'paying', 'payment', 'payoh', 'pc', 'pc1323', 'peace', 'peaceful', 'peach', 'peak', 'pears', 'pee', 'peeps', 'pehle', 'pen', 'pence', 'pendent', 'pending', 'penis', 'penny', 'people', 'peoples', 'per', 'percent', 'perf', 'perfect', 'perform', 'performance', 'performed', 'perhaps', 'peril', 'period', 'peripherals', 'permanent', 'permission', 'permissions', 'perpetual', 'persevered', 'persian', 'persolvo', 'person', 'personal', 'personality', 'personally', 'persons', 'perspective', 'pert', 'pesky', 'pest', 'pete', 'petexxx', 'petey', 'petrol', 'pg', 'ph', 'pharmacy', 'phasing', 'phb1', 'phd', 'phews', 'phil', 'philosophy', 'phne', 'phoenix', 'phone', 'phone750', 'phonebook', 'phoned', 'phones', 'phony', 'photo', 'photos', 'photoshop', 'php', 'phrase', 'phyhcmk', 'physics', 'piah', 'pic', 'pick', 'picked', 'picking', 'pickle', 'pics', 'picsfree1', 'picture', 'pictures', 'pie', 'piece', 'pieces', 'pierre', 'pig', 'pilates', 'pile', 'pillows', 'pimples', 'pin', 'pink', 'pints', 'pisces', 'piss', 'pissed', 'pist', 'pity', 'pix', 'pixels', 'pizza', 'pl', 'place', 'placed', 'placement', 'places', 'plaid', 'plan', 'plane', 'planet', 'planned', 'planning', 'plans', 'play', 'played', 'player', 'players', 'playin', 'playing', 'playng', 'plaza', 'please', 'pleased', 'pleassssssseeeeee', 'pleasure', 'pleasured', 'plenty', 'plm', 'ploughing', 'pls', 'plum', 'plumbers', 'plumbing', 'plural', 'plus', 'plyr', 'plz', 'pm', 'po', 'po19', 'pobox', 'pobox1', 'pobox12n146tf150p', 'pobox334', 'pobox36504w45wq', 'pobox365o4w45wq', 'pobox45w2tg150p', 'pobox84', 'pocay', 'pocked', 'pocketbabe', 'pod', 'poem', 'poet', 'point', 'points', 'poker', 'pokkiri', 'police', 'poly', 'polyc', 'polyh', 'polyph', 'polyphonic', 'polys', 'pongal', 'ponnungale', 'poo', 'pooja', 'pookie', 'pool', 'poop', 'poor', 'poorly', 'pop', 'popcorn', 'popped', 'popping', 'porn', 'porridge', 'port', 'portal', 'portege', 'pos', 'posh', 'position', 'positions', 'positive', 'possession', 'possessive', 'possessiveness', 'possibility', 'possible', 'post', 'postal', 'postcard', 'postcode', 'posted', 'posting', 'postponed', 'posts', 'potato', 'potential', 'potter', 'pouch', 'pound', 'pounds', 'poured', 'pours', 'pouts', 'power', 'powerful', 'poyyarikatur', 'ppl', 'pple', 'ppm', 'ppm150', 'ppt150x3', 'prabha', 'prabu', 'pract', 'practical', 'practice', 'practicing', 'practicum', 'praises', 'prakasam', 'prakasamanu', 'prakesh', 'praps', 'prasad', 'prashanthettan', 'praveesh', 'pray', 'prayers', 'praying', 'pre', 'prediction', 'predictive', 'prefer', 'preferably', 'premarica', 'premier', 'premium', 'prepaid', 'prepare', 'prepared', 'prepayment', 'preponed', 'prescribed', 'prescripiton', 'prescription', 'presence', 'present', 'presents', 'president', 'presleys', 'presnts', 'press', 'pressies', 'pressure', 'pretend', 'pretsorginta', 'pretsovru', 'pretty', 'previews', 'previous', 'previously', 'price', 'prices', 'pride', 'priest', 'prin', 'prince', 'princes', 'princess', 'print', 'printed', 'printer', 'priscilla', 'privacy', 'private', 'prix', 'priya', 'prize', 'prizeawaiting', 'prob', 'probably', 'problem', 'problematic', 'problems', 'problms', 'probs', 'probthat', 'process', 'prods', 'products', 'professional', 'professors', 'profile', 'profiles', 'profit', 'program', 'programs', 'progress', 'project', 'prolly', 'prometazine', 'prominent', 'promise', 'promised', 'promises', 'promo', 'promoting', 'promptly', 'prompts', 'prone', 'proof', 'proove', 'proper', 'properly', 'property', 'propose', 'props', 'propsd', 'pros', 'prospects', 'protect', 'prove', 'proverb', 'provided', 'providing', 'province', 'prsn', 'ps', 'ps3', 'pshew', 'psychiatrist', 'psychic', 'psychologist', 'pt2', 'ptbo', 'pub', 'public', 'publish', 'pubs', 'pudunga', 'pull', 'pulls', 'punch', 'punish', 'punishment', 'punj', 'punto', 'puppy', 'purchase', 'purchases', 'pure', 'purity', 'purpose', 'purse', 'push', 'pushbutton', 'pushes', 'pussy', 'put', 'puts', 'puttin', 'putting', 'puzzeles', 'puzzles', 'qatar', 'qbank', 'qet', 'qi', 'qing', 'qjkgighjjgcbl', 'qlynnbv', 'quality', 'quarter', 'que', 'queen', 'queries', 'ques', 'question', 'questioned', 'questions', 'quick', 'quickly', 'quiet', 'quit', 'quite', 'quitting', 'quiz', 'quizclub', 'quizzes', 'quote', 'quoting', 'r836', 'racal', 'racing', 'radiator', 'radio', 'raed', 'rael', 'rahul', 'railway', 'rain', 'raining', 'raise', 'raised', 'rajas', 'raji', 'rajini', 'rajnikant', 'rakhesh', 'raksha', 'rally', 'ralphs', 'ramen', 'ran', 'random', 'randomlly', 'randomly', 'randy', 'rang', 'range', 'ranjith', 'raping', 'rate', 'rates', 'rather', 'ratio', 'raviyog', 'rawring', 'rayan', 'rayman', 'rays', 'rcd', 'rct', 'rcv', 'rcvd', 'rd', 'rdy', 're', 'reach', 'reache', 'reached', 'reaching', 'reaction', 'read', 'readers', 'reading', 'ready', 'real', 'real1', 'realise', 'realised', 'realising', 'reality', 'realize', 'realized', 'realizes', 'really', 'reallyneed', 'realy', 'reapply', 'rearrange', 'reason', 'reasonable', 'reasons', 'reassurance', 'reassuring', 'rebel', 'reboot', 'rebooting', 'rebtel', 'rec', 'recd', 'receipt', 'receipts', 'receive', 'receivea', 'received', 'receiving', 'recent', 'recently', 'reception', 'recession', 'recharge', 'recharged', 'recieve', 'reckon', 'recognise', 'recognises', 'record', 'recorded', 'recorder', 'records', 'recount', 'recreation', 'red', 'redeemed', 'reduce', 'ref', 'reference', 'referin', 'reffering', 'refilled', 'reflection', 'refreshed', 'refund', 'refunded', 'refused', 'reg', 'regalportfolio', 'regard', 'regarding', 'regards', 'register', 'registered', 'registration', 'regret', 'regretted', 'regular', 'rejected', 'related', 'relation', 'relationship', 'relatives', 'relax', 'relaxing', 'released', 'reliant', 'relieved', 'reltnship', 'rem', 'remain', 'remains', 'remember', 'remembered', 'remembr', 'remembrs', 'remind', 'reminded', 'reminder', 'reminding', 'remixed', 'removal', 'remove', 'removed', 'renewal', 'renewing', 'rent', 'rental', 'renting', 'rentl', 'rents', 'repairs', 'repeat', 'replace', 'replacement', 'replacing', 'replied', 'replies', 'reply', 'replying', 'report', 'reppurcussions', 'representative', 'request', 'requests', 'require', 'required', 'requirements', 'research', 'resend', 'resent', 'reservations', 'reserve', 'reserves', 'reset', 'residency', 'resizing', 'reslove', 'resolved', 'resort', 'respect', 'responce', 'respond', 'responding', 'response', 'responsibilities', 'responsibility', 'responsible', 'rest', 'restaurant', 'restock', 'restocked', 'restrict', 'restrictions', 'resubbing', 'resubmit', 'result', 'results', 'resume', 'resuming', 'retrieve', 'return', 'returned', 'returning', 'returns', 'reveal', 'revealed', 'reverse', 'review', 'revision', 'reward', 'rewarding', 'rgds', 'rgent', 'rhythm', 'rice', 'rich', 'riddance', 'ridden', 'ride', 'right', 'rightio', 'rightly', 'rights', 'ring', 'rings', 'ringtone', 'ringtoneking', 'ringtones', 'rinu', 'rip', 'risk', 'risks', 'rite', 'ritten', 'river', 'road', 'roads', 'roast', 'rob', 'robinson', 'rock', 'rocking', 'rocks', 'rodds1', 'rodger', 'rofl', 'roger', 'role', 'roles', 'rolled', 'roller', 'romantic', 'romcapspam', 'ron', 'room', 'roomate', 'roommate', 'roommates', 'rooms', 'rose', 'roses', 'rough', 'round', 'rounder', 'rounds', 'row', 'rowdy', 'rows', 'royal', 'rp176781', 'rpl', 'rply', 'rr', 'rs', 'rstm', 'rtf', 'rtm', 'ru', 'rub', 'rude', 'rudi', 'rugby', 'ruin', 'ruining', 'rule', 'rules', 'rum', 'rumbling', 'rumour', 'run', 'running', 'runs', 'rupaul', 'rush', 'rushing', 'rv', 'rvx', 'rwm', 'ryan', 'ryder', 's89', 'sabarish', 'sac', 'sachin', 'sacked', 'sacrifice', 'sad', 'sae', 'saeed', 'safe', 'sagamu', 'said', 'sake', 'salad', 'salam', 'salary', 'sale', 'sales', 'salesman', 'sall', 'salmon', 'salon', 'salt', 'sam', 'samantha', 'sambar', 'same', 'sane', 'santa', 'santacalling', 'sao', 'sapna', 'sar', 'sarasota', 'sarcasm', 'sarcastic', 'saristar', 'sary', 'sashimi', 'sat', 'sathya', 'satisfied', 'satisfy', 'satsgettin', 'saturday', 'saucy', 'sausage', 'savamob', 'save', 'saved', 'saves', 'savings', 'saw', 'say', 'saying', 'says', 'sayy', 'sc', 'scarcasim', 'scared', 'scary', 'scenery', 'sch', 'schedule', 'school', 'schools', 'science', 'scold', 'scorable', 'score', 'scores', 'scoring', 'scotch', 'scotland', 'scotsman', 'scouse', 'scraped', 'scrappy', 'scratching', 'scream', 'screamed', 'screaming', 'screen', 'screwd', 'scrounge', 'sd', 'sdryb8i', 'se', 'sea', 'search', 'searching', 'season', 'seat', 'sec', 'second', 'secondary', 'seconds', 'secret', 'secretary', 'secretly', 'secrets', 'secs', 'section', 'sections', 'secure', 'secured', 'sed', 'see', 'seeds', 'seeing', 'seekers', 'seeking', 'seem', 'seemed', 'seems', 'seen', 'seh', 'sehwag', 'seing', 'select', 'selected', 'selection', 'self', 'selfindependence', 'selfish', 'sell', 'selling', 'sells', 'sem', 'semester', 'sen', 'send', 'sender', 'sending', 'sends', 'senor', 'sense', 'senses', 'sensitive', 'sent', 'sentence', 'senthil', 'sentiment', 'seperated', 'sept', 'september', 'series', 'serious', 'seriously', 'served', 'service', 'services', 'servs', 'set', 'setting', 'settings', 'settle', 'settled', 'seven', 'several', 'sex', 'sexiest', 'sexual', 'sexy', 'sexychat', 'sez', 'sf', 'sg', 'sh', 'sha', 'shadow', 'shagged', 'shah', 'shahjahan', 'shakara', 'shake', 'shakespeare', 'shaking', 'shall', 'shame', 'shampain', 'shangela', 'shant', 'shaping', 'share', 'shared', 'sharing', 'shattered', 'shaved', 'shb', 'shd', 'she', 'sheet', 'sheets', 'sheffield', 'shelves', 'sherawat', 'shesil', 'shexy', 'shhhhh', 'shifad', 'shijas', 'shijutta', 'shinco', 'shindig', 'shining', 'shiny', 'ship', 'shipped', 'shipping', 'shirt', 'shirts', 'shit', 'shitin', 'shitinnit', 'shitload', 'shitstorm', 'shld', 'shock', 'shocking', 'shoes', 'shola', 'shoot', 'shop', 'shoppin', 'shopping', 'shore', 'short', 'shortage', 'shortbreaks', 'shortcode', 'shorter', 'shortly', 'shorts', 'shot', 'shoul', 'should', 'shouldn', 'shouted', 'shoving', 'show', 'showed', 'shower', 'showered', 'showers', 'showing', 'showrooms', 'shows', 'shracomorsglsuplt', 'shrek', 'shrink', 'shrub', 'shsex', 'shud', 'shudvetold', 'shuhui', 'shun', 'shut', 'shy', 'si', 'sian', 'sib', 'sick', 'sickness', 'side', 'sigh', 'sighs', 'sight', 'sign', 'signal', 'significance', 'signing', 'silence', 'silent', 'silently', 'silver', 'sim', 'simonwatson5120', 'simple', 'simply', 'simpsons', 'since', 'sinco', 'sindu', 'sing', 'singing', 'single', 'singles', 'sipix', 'sips', 'sir', 'sirji', 'sis', 'sister', 'sisters', 'sit', 'site', 'sitll', 'sitting', 'situation', 'situations', 'siva', 'six', 'size', 'sized', 'sk3', 'sk38xh', 'skateboarding', 'skilgme', 'skillgame', 'skills', 'skinny', 'skint', 'skip', 'skirt', 'sky', 'skype', 'skyving', 'slaaaaave', 'slap', 'slave', 'sleep', 'sleepin', 'sleeping', 'sleepingwith', 'sleeps', 'sleepwell', 'sleepy', 'slept', 'slice', 'slide', 'sliding', 'slightly', 'slip', 'slippers', 'slippery', 'slo', 'slob', 'slots', 'slovely', 'slow', 'slower', 'slowly', 'slp', 'smacks', 'small', 'smaller', 'smart', 'smartcall', 'smarter', 'smashed', 'smear', 'smell', 'smells', 'smeone', 'smile', 'smiles', 'smiley', 'smiling', 'smith', 'smoke', 'smoked', 'smokes', 'smokin', 'smoking', 'smoothly', 'sms', 'smsco', 'smsing', 'smsrewards', 'smth', 'sn', 'snap', 'snappy', 'snatch', 'snd', 'sneham', 'snickering', 'snogs', 'snoring', 'snot', 'snow', 'snowboarding', 'snuggles', 'so', 'sochte', 'social', 'sofa', 'soft', 'software', 'soil', 'soiree', 'sol', 'soladha', 'sold', 'solihull', 'solve', 'solved', 'some', 'some1', 'somebody', 'someone', 'someonone', 'someplace', 'somerset', 'sometext', 'somethin', 'something', 'sometime', 'sometimes', 'sometme', 'somewhat', 'somewhere', 'somewheresomeone', 'somewhr', 'somone', 'somtimes', 'sonathaya', 'sonetimes', 'song', 'songs', 'sony', 'sonyericsson', 'soo', 'soon', 'sooner', 'soonlots', 'sooo', 'sooooo', 'sophas', 'sore', 'sorrow', 'sorrows', 'sorry', 'sort', 'sorta', 'sorted', 'sorting', 'sorts', 'sory', 'soryda', 'sos', 'soul', 'sound', 'sounding', 'sounds', 'soundtrack', 'soup', 'source', 'sources', 'south', 'southern', 'soz', 'sozi', 'sp', 'space', 'spaces', 'spam', 'spanish', 'spare', 'spares', 'spark', 'sparkling', 'spatula', 'speak', 'speaking', 'special', 'speciale', 'specialisation', 'specialise', 'specially', 'specific', 'specify', 'speechless', 'speed', 'speedchat', 'speeding', 'spell', 'spelled', 'spelling', 'spend', 'spending', 'spent', 'sphosting', 'spice', 'spider', 'spiffing', 'spile', 'spin', 'spinout', 'spiral', 'spirit', 'spiritual', 'spjanuary', 'spk', 'spl', 'splash', 'splashmobile', 'splat', 'splendid', 'splleing', 'spoiled', 'spoilt', 'spoke', 'spoken', 'sponsors', 'spontaneously', 'spook', 'spoon', 'spoons', 'sport', 'sports', 'sportsx', 'spot', 'spotty', 'sppok', 'spreadsheet', 'spree', 'spring', 'springs', 'sprint', 'sptv', 'spun', 'sq825', 'squatting', 'squid', 'srt', 'sry', 'st', 'stable', 'stadium', 'staff', 'stage', 'stagwood', 'stairs', 'stalk', 'stalking', 'stamped', 'stamps', 'stand', 'standard', 'standing', 'stands', 'stapati', 'star', 'starer', 'starring', 'stars', 'starshine', 'start', 'started', 'starting', 'starts', 'starwars3', 'statement', 'station', 'status', 'stay', 'stayed', 'stayin', 'staying', 'stays', 'std', 'stdtxtrate', 'steak', 'stealing', 'steam', 'steamboat', 'steed', 'steering', 'step', 'steps', 'stereo', 'stereophonics', 'sterling', 'sterm', 'steve', 'stewartsize', 'steyn', 'stick', 'sticky', 'stifled', 'stil', 'still', 'stink', 'stitch', 'stock', 'stocked', 'stockport', 'stolen', 'stomach', 'stomps', 'stone', 'stoners', 'stool', 'stop', 'stop2', 'stop2stop', 'stopbcm', 'stopcost', 'stopped', 'stops', 'stopsms', 'store', 'stores', 'stories', 'storming', 'story', 'str', 'straight', 'strange', 'stranger', 'stream', 'street', 'stress', 'stressful', 'stretch', 'strewn', 'strict', 'strike', 'strings', 'strip', 'stripes', 'strips', 'strokes', 'strong', 'strongly', 'strt', 'struggling', 'sts', 'stu', 'stubborn', 'stuck', 'studdying', 'student', 'studentfinancial', 'students', 'studies', 'studio', 'study', 'studying', 'studyn', 'stuff', 'stuff42moro', 'stuffing', 'stunning', 'stupid', 'style', 'styles', 'styling', 'stylish', 'stylist', 'sub', 'subject', 'subletting', 'submitted', 'submitting', 'subpoly', 'subs', 'subs16', 'subscribe', 'subscribe6gbp', 'subscribed', 'subscriber', 'subscribers', 'subscription', 'subscriptions', 'subscriptn3gbp', 'subscrition', 'subsequent', 'subtoitles', 'success', 'successful', 'successfully', 'sucker', 'suckers', 'sucks', 'sudden', 'suddenly', 'sudn', 'suffer', 'suffering', 'sufficient', 'sugababes', 'suganya', 'sugar', 'suggest', 'suggestion', 'suggestions', 'suite', 'suite342', 'suitemates', 'suits', 'sum', 'sum1', 'sumfing', 'summer', 'summon', 'sumthin', 'sun', 'sun0819', 'sunday', 'sunlight', 'sunny', 'sunroof', 'sunshine', 'suntec', 'sup', 'super', 'superb', 'supervisor', 'supose', 'suppliers', 'supplies', 'supply', 'support', 'supports', 'suppose', 'supposed', 'supreme', 'suprman', 'sura', 'sure', 'surely', 'surf', 'surfing', 'surly', 'surname', 'surprise', 'surprised', 'surrender', 'surya', 'sutra', 'sux', 'suzy', 'svc', 'sw7', 'sw73ss', 'swalpa', 'swann', 'swap', 'swashbuckling', 'swat', 'swatch', 'sway', 'swayze', 'sweater', 'sweatter', 'sweet', 'sweetest', 'sweetheart', 'sweetie', 'sweets', 'swhrt', 'swimming', 'swimsuit', 'swing', 'switch', 'swollen', 'swoop', 'swt', 'swtheart', 'syd', 'symbol', 'sympathetic', 'synced', 'syria', 'syrup', 'system', 'systems', 't4get2text', 't91', 'ta', 'table', 'tablet', 'tablets', 'tackle', 'tacos', 'tactful', 'tag', 'tagged', 'tahan', 'tai', 'tait', 'taj', 'taka', 'take', 'takecare', 'taken', 'takes', 'takin', 'taking', 'talent', 'talk', 'talkbut', 'talked', 'talkin', 'talking', 'talks', 'tall', 'tallahassee', 'tallent', 'tamilnadu', 'tampa', 'tank', 'tantrum', 'tap', 'tape', 'tariffs', 'tarpon', 'taste', 'tasts', 'tat', 'tata', 'tats', 'tattoos', 'tau', 'taught', 'taunton', 'taxi', 'taxt', 'taylor', 'tayseer', 'tb', 'tbs', 'tc', 'tcr', 'tcs', 'tea', 'teach', 'teacher', 'teaches', 'teaching', 'team', 'tear', 'tears', 'tease', 'teasing', 'tech', 'technical', 'technologies', 'tee', 'teenager', 'teeth', 'tel', 'telediscount', 'telephone', 'teletext', 'tell', 'telling', 'tellmiss', 'tells', 'telly', 'telphone', 'telugu', 'temales', 'temp', 'temper', 'temple', 'ten', 'tenants', 'tendencies', 'tenerife', 'tensed', 'tension', 'term', 'terminated', 'terms', 'termsapply', 'terrible', 'terrific', 'terror', 'terrorist', 'terry', 'tescos', 'tessy', 'test', 'testing', 'tests', 'tex', 'texas', 'text', 'text82228', 'textand', 'textbuddy', 'textcomp', 'texted', 'textin', 'texting', 'textoperator', 'textpod', 'texts', 'tgxxrz', 'th', 'than', 'thandiyachu', 'thangam', 'thank', 'thanks', 'thanks2', 'thanksgiving', 'thanku', 'thankyou', 'thanx', 'thanx4', 'thasa', 'that', 'that2worzels', 'thats', 'the', 'theacusations', 'theater', 'theatre', 'thecd', 'their', 'theirs', 'thekingshead', 'them', 'themob', 'then', 'thenampet', 'theoretically', 'theory', 'theplace', 'thepub', 'there', 'theres', 'these', 'thesis', 'thet', 'thew', 'they', 'theyre', 'thgt', 'thia', 'thin', 'thing', 'things', 'think', 'thinked', 'thinkin', 'thinking', 'thinks', 'thinl', 'thirtyeight', 'thirunelvali', 'this', 'thk', 'thm', 'thnk', 'thnq', 'thnx', 'tho', 'those', 'thot', 'thou', 'though', 'thought', 'thoughts', 'thousands', 'thout', 'thread', 'threats', 'threw', 'thriller', 'throat', 'through', 'throw', 'throwing', 'thrown', 'throws', 'thru', 'ths', 'tht', 'thts', 'thuglyfe', 'thurs', 'thursday', 'thx', 'thy', 'tick', 'ticket', 'tickets', 'tie', 'tiempo', 'tiger', 'tight', 'tightly', 'tigress', 'tihs', 'tiime', 'til', 'till', 'time', 'times', 'timi', 'timing', 'timings', 'tiny', 'tip', 'tips', 'tired', 'tiring', 'tirunelvai', 'tirunelvali', 'tirupur', 'tis', 'tissco', 'title', 'titles', 'tiwary', 'tiz', 'tkts', 'tlk', 'tlp', 'tm', 'tmorow', 'tmorrow', 'tmr', 'tmrw', 'tms', 'tmw', 'tncs', 'to', 'toa', 'toaday', 'tobacco', 'tobed', 'toclaim', 'today', 'todays', 'todo', 'tog', 'together', 'toilet', 'tok', 'toking', 'told', 'toledo', 'toll', 'tom', 'tomarrow', 'tome', 'tomeandsaid', 'tomo', 'tomorro', 'tomorrow', 'tone', 'tones', 'tones2u', 'tones2you', 'tongued', 'tonight', 'tonights', 'tonite', 'tons', 'too', 'took', 'tookplace', 'tool', 'tooo', 'toot', 'tootsie', 'top', 'topic', 'toplay', 'topped', 'tops', 'tor', 'torch', 'tortilla', 'torture', 'tosend', 'toshiba', 'toss', 'tot', 'total', 'totally', 'totes', 'touch', 'touched', 'tough', 'tour', 'towards', 'town', 'tp', 'track', 'trade', 'traditions', 'traffic', 'train', 'trained', 'training', 'trains', 'tram', 'transaction', 'transcribing', 'transfer', 'transfered', 'transfr', 'transfred', 'transport', 'trash', 'trav', 'travel', 'traveling', 'travelling', 'treadmill', 'treasure', 'treat', 'treated', 'treats', 'trebles', 'tree', 'trek', 'trends', 'trial', 'tried', 'trip', 'triple', 'trips', 'trishul', 'tron', 'trouble', 'troubleshooting', 'trouser', 'truble', 'truck', 'true', 'true18', 'truffles', 'truly', 'truro', 'trust', 'trusting', 'truth', 'try', 'tryin', 'trying', 'ts', 'tscs', 'tscs08714740323', 'tscs087147403231winawk', 'tsunami', 'tsunamis', 'tt', 'ttyl', 'tue', 'tues', 'tuesday', 'tui', 'tuition', 'tul', 'tulip', 'tunde', 'tunji', 'turkeys', 'turn', 'turned', 'turning', 'turns', 'tuth', 'tv', 'twat', 'twelve', 'twice', 'twiggs', 'twilight', 'twins', 'twittering', 'two', 'tx', 'txt', 'txt250', 'txt82228', 'txtauction', 'txtin', 'txting', 'txtno', 'txts', 'txtstar', 'txtstop', 'txttowin', 'txtx', 'tyler', 'type', 'types', 'typical', 'tyrone', 'u2moro', 'u4', 'ubi', 'ugh', 'ugo', 'uh', 'uin', 'uk', 'ukp', 'uks', 'ultimate', 'ultimately', 'umma', 'ummifying', 'ummma', 'ummmmmaah', 'un', 'unable', 'unbelievable', 'unbreakable', 'uncle', 'uncles', 'uncomfortable', 'unconditionally', 'unconscious', 'unconvinced', 'under', 'underdtand', 'understand', 'understanding', 'understood', 'underwear', 'undrstnd', 'undrstndng', 'uneventful', 'unhappiness', 'uni', 'unicef', 'uniform', 'unintentional', 'unintentionally', 'unique', 'united', 'units', 'univ', 'university', 'unjalur', 'unkempt', 'unknown', 'unless', 'unlike', 'unlimited', 'unmits', 'unnecessarily', 'unni', 'unrecognized', 'unredeemed', 'unsecured', 'unsold', 'unsub', 'unsubscribe', 'unsubscribed', 'untamed', 'until', 'unusual', 'up', 'up4', 'upcharge', 'upd8', 'updat', 'update', 'update_now', 'upgrade', 'upgrading', 'upgrdcentre', 'upload', 'uploaded', 'upon', 'ups', 'upset', 'upstairs', 'upto', 'ur', 'urawinner', 'ure', 'urfeeling', 'urgent', 'urgently', 'urgh', 'urgnt', 'urgoin', 'urgran', 'url', 'urmom', 'urn', 'urself', 'us', 'usa', 'usb', 'usc', 'use', 'used', 'useful', 'useless', 'user', 'uses', 'usf', 'usher', 'using', 'usps', 'usual', 'usually', 'uterus', 'utter', 'uttered', 'uup', 'uwana', 'uworld', 'va', 'vaazhthukkal', 'vague', 'vaguely', 'vale', 'valentine', 'valentines', 'valid', 'valid12hrs', 'valuable', 'value', 'valued', 'values', 'valuing', 'varaya', 'vargu', 'various', 'varma', 'varunnathu', 'vary', 'vasai', 'vat', 'vatian', 'vava', 'vday', 've', 'vegas', 'vegetables', 'velachery', 'velusamy', 'venaam', 'venugopal', 'verified', 'verify', 'verifying', 'version', 'versus', 'very', 'vettam', 'vewy', 'via', 'vibrate', 'vibrator', 'vic', 'victoria', 'victors', 'vid', 'video', 'videochat', 'videophones', 'videos', 'videosound', 'videosounds', 'view', 'vijay', 'vijaykanth', 'vikky', 'vilikkam', 'vill', 'villa', 'village', 'vinobanagar', 'violated', 'violence', 'violet', 'vip', 'virgil', 'virgin', 'virgins', 'virtual', 'visa', 'visionsms', 'visit', 'visitor', 'visitors', 'vital', 'viva', 'vivek', 'vl', 'voda', 'vodafone', 'vodka', 'voice', 'voicemail', 'volcanoes', 'vomit', 'vomitin', 'vomiting', 'vote', 'voted', 'voucher', 'vouchers', 'vpod', 'vry', 'vs', 'vth', 'w1', 'w111wx', 'w14rg', 'w1a', 'w1j6hl', 'w1jhl', 'w1t1jy', 'w4', 'w45wq', 'w8in', 'wa', 'wa14', 'waaaat', 'wad', 'wadebridge', 'wah', 'wahay', 'waheed', 'waheeda', 'wahleykkum', 'waht', 'wait', 'waited', 'waitin', 'waiting', 'wake', 'waking', 'wales', 'walk', 'walkabout', 'walked', 'walking', 'wall', 'wallet', 'wallpaper', 'walls', 'walmart', 'walsall', 'wamma', 'wan', 'wan2', 'wana', 'wanna', 'wannatell', 'want', 'want2come', 'wanted', 'wanting', 'wants', 'wap', 'waqt', 'warm', 'warming', 'warned', 'warner', 'warning', 'warranty', 'warwick', 'was', 'wasn', 'wasnt', 'waste', 'wasted', 'wasting', 'wat', 'watch', 'watched', 'watchin', 'watching', 'watchng', 'water', 'watever', 'watevr', 'wating', 'watr', 'wats', 'wave', 'wavering', 'waves', 'way', 'way2sms', 'waz', 'wc1n', 'wc1n3xx', 'we', 'weak', 'weakness', 'weaknesses', 'weapon', 'wear', 'wearing', 'weaseling', 'weasels', 'weather', 'web', 'web2mobile', 'webadres', 'webeburnin', 'website', 'wed', 'weddin', 'wedding', 'wedlunch', 'wednesday', 'weds', 'wee', 'weed', 'week', 'weekdays', 'weekend', 'weekends', 'weekly', 'weeks', 'weigh', 'weighed', 'weight', 'weightloss', 'weird', 'weirdest', 'weirdo', 'weirdy', 'weiyi', 'welcome', 'welcomes', 'well', 'wellda', 'welp', 'wen', 'wendy', 'wenever', 'went', 'wenwecan', 'wer', 'were', 'werebored', 'weren', 'werethe', 'wesley', 'wesleys', 'west', 'western', 'westlife', 'westonzoyland', 'wet', 'wetherspoons', 'wewa', 'what', 'whatever', 'whats', 'wheat', 'wheel', 'wheellock', 'when', 'whenever', 'whenevr', 'whens', 'where', 'whereare', 'wherever', 'wherevr', 'wherre', 'whether', 'which', 'while', 'whilltake', 'whispers', 'white', 'whn', 'who', 'whoever', 'whole', 'whom', 'whore', 'whos', 'whose', 'whr', 'why', 'wi', 'wicked', 'wicket', 'wicklow', 'wid', 'widelive', 'wif', 'wife', 'wifes', 'wifi', 'wihtuot', 'wil', 'wild', 'wildlife', 'will', 'willing', 'willpower', 'win', 'win150ppmx3age16', 'wind', 'window', 'windows', 'winds', 'wine', 'wined', 'wings', 'winner', 'winnersclub', 'winning', 'wins', 'winterstone', 'wipe', 'wipro', 'wire3', 'wisdom', 'wise', 'wish', 'wisheds', 'wishes', 'wishin', 'wishing', 'wishlist', 'wiskey', 'wit', 'with', 'wither', 'within', 'without', 'witin', 'witot', 'witout', 'wiv', 'wizzle', 'wk', 'wkend', 'wkent', 'wkg', 'wkly', 'wknd', 'wks', 'wlcome', 'wld', 'wml', 'wn', 'wnevr', 'wnt', 'wo', 'woah', 'wocay', 'woke', 'woken', 'woman', 'womdarfull', 'women', 'won', 'wondar', 'wondarfull', 'wonder', 'wonderful', 'wondering', 'wonders', 'wont', 'woo', 'woodland', 'woods', 'woohoo', 'woot', 'woozles', 'worc', 'word', 'words', 'work', 'workage', 'workand', 'workin', 'working', 'workout', 'works', 'world', 'worlds', 'worms', 'worried', 'worries', 'worry', 'worrying', 'worse', 'worst', 'worth', 'worthless', 'wot', 'wotu', 'wotz', 'woul', 'would', 'woulda', 'wouldn', 'wounds', 'wow', 'wrc', 'wrecked', 'wrench', 'wrenching', 'wright', 'write', 'wrk', 'wrkin', 'wrking', 'wrld', 'wrnog', 'wrong', 'wrongly', 'wrote', 'ws', 'wt', 'wtc', 'wtf', 'wth', 'wthout', 'wtlp', 'wud', 'wudn', 'wuld', 'wuldnt', 'wun', 'www', 'wylie', 'x2', 'x29', 'x49', 'xafter', 'xam', 'xavier', 'xchat', 'xclusive', 'xin', 'xmas', 'xoxo', 'xt', 'xuhui', 'xx', 'xxsp', 'xxx', 'xxxmobilemovieclub', 'xxxx', 'xxxxx', 'xxxxxx', 'xy', 'y87', 'ya', 'yah', 'yahoo', 'yalrigu', 'yalru', 'yam', 'yan', 'yar', 'yarasu', 'yards', 'yavnt', 'yaxx', 'yaxxx', 'yay', 'yck', 'yeah', 'year', 'years', 'yeesh', 'yeh', 'yelling', 'yellow', 'yen', 'yeovil', 'yep', 'yer', 'yes', 'yest', 'yesterday', 'yet', 'yetunde', 'yijue', 'ym', 'ymca', 'yo', 'yoga', 'yogasana', 'yor', 'yorge', 'you', 'youdoing', 'youi', 'youphone', 'your', 'youre', 'yourjob', 'yours', 'yourself', 'youwanna', 'yowifes', 'yoyyooo', 'yr', 'yrs', 'ything', 'yummmm', 'yummy', 'yun', 'yunny', 'yuo', 'yuou', 'yup', 'zac', 'zaher', 'zealand', 'zebra', 'zed', 'zeros', 'zhong', 'zindgi', 'zoe', 'zoom', 'zouk', 'zyada', 'èn', '〨ud'] \n",
      "\n"
     ]
    }
   ],
   "source": [
    "print(\"The Fitted Vocabulory is :\\n\", fitted_vocab, \"\\n\")"
   ]
  },
  {
   "cell_type": "code",
   "execution_count": 54,
   "metadata": {
    "scrolled": true
   },
   "outputs": [
    {
     "name": "stdout",
     "output_type": "stream",
     "text": [
      "The DataFrame Matrix for the Dense Matrix Train Data is :\n",
      "                                                     00  000  008704050406  \\\n",
      "message                                                                     \n",
      "4mths half price Orange line rental & latest ca...   0    0             0   \n",
      "Did you stitch his trouser                           0    0             0   \n",
      "Hope you enjoyed your new content. text stop to...   0    0             0   \n",
      "Not heard from U4 a while. Call 4 rude chat pri...   0    0             0   \n",
      "Ü neva tell me how i noe... I'm not at home in ...   0    0             0   \n",
      "...                                                 ..  ...           ...   \n",
      "We're all getting worried over here, derek and ...   0    0             0   \n",
      "Oh oh... Den muz change plan liao... Go back ha...   0    0             0   \n",
      "CERI U REBEL! SWEET DREAMZ ME LITTLE BUDDY!! C ...   0    0             0   \n",
      "Text & meet someone sexy today. U can find a da...   0    0             0   \n",
      "K k:) sms chat with me.                              0    0             0   \n",
      "\n",
      "                                                    0121  01223585236  \\\n",
      "message                                                                 \n",
      "4mths half price Orange line rental & latest ca...     0            0   \n",
      "Did you stitch his trouser                             0            0   \n",
      "Hope you enjoyed your new content. text stop to...     0            0   \n",
      "Not heard from U4 a while. Call 4 rude chat pri...     0            0   \n",
      "Ü neva tell me how i noe... I'm not at home in ...     0            0   \n",
      "...                                                  ...          ...   \n",
      "We're all getting worried over here, derek and ...     0            0   \n",
      "Oh oh... Den muz change plan liao... Go back ha...     0            0   \n",
      "CERI U REBEL! SWEET DREAMZ ME LITTLE BUDDY!! C ...     0            0   \n",
      "Text & meet someone sexy today. U can find a da...     0            0   \n",
      "K k:) sms chat with me.                                0            0   \n",
      "\n",
      "                                                    01223585334  0125698789  \\\n",
      "message                                                                       \n",
      "4mths half price Orange line rental & latest ca...            0           0   \n",
      "Did you stitch his trouser                                    0           0   \n",
      "Hope you enjoyed your new content. text stop to...            0           0   \n",
      "Not heard from U4 a while. Call 4 rude chat pri...            1           0   \n",
      "Ü neva tell me how i noe... I'm not at home in ...            0           0   \n",
      "...                                                         ...         ...   \n",
      "We're all getting worried over here, derek and ...            0           0   \n",
      "Oh oh... Den muz change plan liao... Go back ha...            0           0   \n",
      "CERI U REBEL! SWEET DREAMZ ME LITTLE BUDDY!! C ...            0           0   \n",
      "Text & meet someone sexy today. U can find a da...            0           0   \n",
      "K k:) sms chat with me.                                       0           0   \n",
      "\n",
      "                                                    02  0207  02072069400  \\\n",
      "message                                                                     \n",
      "4mths half price Orange line rental & latest ca...   0     0            0   \n",
      "Did you stitch his trouser                           0     0            0   \n",
      "Hope you enjoyed your new content. text stop to...   0     0            0   \n",
      "Not heard from U4 a while. Call 4 rude chat pri...   0     0            0   \n",
      "Ü neva tell me how i noe... I'm not at home in ...   0     0            0   \n",
      "...                                                 ..   ...          ...   \n",
      "We're all getting worried over here, derek and ...   0     0            0   \n",
      "Oh oh... Den muz change plan liao... Go back ha...   0     0            0   \n",
      "CERI U REBEL! SWEET DREAMZ ME LITTLE BUDDY!! C ...   0     0            0   \n",
      "Text & meet someone sexy today. U can find a da...   0     0            0   \n",
      "K k:) sms chat with me.                              0     0            0   \n",
      "\n",
      "                                                    ...  zed  zeros  zhong  \\\n",
      "message                                             ...                      \n",
      "4mths half price Orange line rental & latest ca...  ...    0      0      0   \n",
      "Did you stitch his trouser                          ...    0      0      0   \n",
      "Hope you enjoyed your new content. text stop to...  ...    0      0      0   \n",
      "Not heard from U4 a while. Call 4 rude chat pri...  ...    0      0      0   \n",
      "Ü neva tell me how i noe... I'm not at home in ...  ...    0      0      0   \n",
      "...                                                 ...  ...    ...    ...   \n",
      "We're all getting worried over here, derek and ...  ...    0      0      0   \n",
      "Oh oh... Den muz change plan liao... Go back ha...  ...    0      0      0   \n",
      "CERI U REBEL! SWEET DREAMZ ME LITTLE BUDDY!! C ...  ...    0      0      0   \n",
      "Text & meet someone sexy today. U can find a da...  ...    0      0      0   \n",
      "K k:) sms chat with me.                             ...    0      0      0   \n",
      "\n",
      "                                                    zindgi  zoe  zoom  zouk  \\\n",
      "message                                                                       \n",
      "4mths half price Orange line rental & latest ca...       0    0     0     0   \n",
      "Did you stitch his trouser                               0    0     0     0   \n",
      "Hope you enjoyed your new content. text stop to...       0    0     0     0   \n",
      "Not heard from U4 a while. Call 4 rude chat pri...       0    0     0     0   \n",
      "Ü neva tell me how i noe... I'm not at home in ...       0    0     0     0   \n",
      "...                                                    ...  ...   ...   ...   \n",
      "We're all getting worried over here, derek and ...       0    0     0     0   \n",
      "Oh oh... Den muz change plan liao... Go back ha...       0    0     0     0   \n",
      "CERI U REBEL! SWEET DREAMZ ME LITTLE BUDDY!! C ...       0    0     0     0   \n",
      "Text & meet someone sexy today. U can find a da...       0    0     0     0   \n",
      "K k:) sms chat with me.                                  0    0     0     0   \n",
      "\n",
      "                                                    zyada  èn  〨ud  \n",
      "message                                                             \n",
      "4mths half price Orange line rental & latest ca...      0   0    0  \n",
      "Did you stitch his trouser                              0   0    0  \n",
      "Hope you enjoyed your new content. text stop to...      0   0    0  \n",
      "Not heard from U4 a while. Call 4 rude chat pri...      0   0    0  \n",
      "Ü neva tell me how i noe... I'm not at home in ...      0   0    0  \n",
      "...                                                   ...  ..  ...  \n",
      "We're all getting worried over here, derek and ...      0   0    0  \n",
      "Oh oh... Den muz change plan liao... Go back ha...      0   0    0  \n",
      "CERI U REBEL! SWEET DREAMZ ME LITTLE BUDDY!! C ...      0   0    0  \n",
      "Text & meet someone sexy today. U can find a da...      0   0    0  \n",
      "K k:) sms chat with me.                                 0   0    0  \n",
      "\n",
      "[4179 rows x 7456 columns]\n"
     ]
    }
   ],
   "source": [
    "print(\"The DataFrame Matrix for the Dense Matrix Train Data is :\\n\", pd.DataFrame(data=Xtrain_dtm_parse.toarray(),index =Xtrain ,columns=fitted_vocab))"
   ]
  },
  {
   "cell_type": "code",
   "execution_count": 55,
   "metadata": {},
   "outputs": [],
   "source": [
    "Xtest_dtm_parse = vect.transform(Xtest)"
   ]
  },
  {
   "cell_type": "code",
   "execution_count": 56,
   "metadata": {
    "scrolled": true
   },
   "outputs": [
    {
     "name": "stdout",
     "output_type": "stream",
     "text": [
      "The Sparse Matrix for the Testing Data is :\n",
      "   (0, 1538)\t1\n",
      "  (0, 5189)\t1\n",
      "  (0, 6542)\t1\n",
      "  (0, 7405)\t1\n",
      "  (1, 1016)\t1\n",
      "  (1, 3050)\t1\n",
      "  (1, 4163)\t1\n",
      "  (1, 4238)\t1\n",
      "  (1, 4370)\t1\n",
      "  (1, 5200)\t1\n",
      "  (1, 6656)\t1\n",
      "  (1, 7407)\t1\n",
      "  (1, 7420)\t1\n",
      "  (2, 986)\t1\n",
      "  (2, 3244)\t1\n",
      "  (2, 7162)\t1\n",
      "  (3, 3237)\t1\n",
      "  (4, 887)\t2\n",
      "  (4, 1060)\t1\n",
      "  (4, 1595)\t1\n",
      "  (4, 2066)\t1\n",
      "  (4, 2833)\t1\n",
      "  (4, 3388)\t1\n",
      "  (4, 3623)\t1\n",
      "  (4, 3921)\t1\n",
      "  :\t:\n",
      "  (1391, 4373)\t1\n",
      "  (1391, 4413)\t1\n",
      "  (1391, 4441)\t1\n",
      "  (1391, 4743)\t1\n",
      "  (1391, 4778)\t1\n",
      "  (1391, 6017)\t1\n",
      "  (1391, 6057)\t1\n",
      "  (1391, 6829)\t1\n",
      "  (1391, 6904)\t1\n",
      "  (1391, 7012)\t1\n",
      "  (1391, 7120)\t1\n",
      "  (1391, 7230)\t2\n",
      "  (1391, 7239)\t1\n",
      "  (1391, 7287)\t1\n",
      "  (1391, 7357)\t1\n",
      "  (1392, 848)\t1\n",
      "  (1392, 2400)\t1\n",
      "  (1392, 2873)\t1\n",
      "  (1392, 3158)\t1\n",
      "  (1392, 4238)\t1\n",
      "  (1392, 4255)\t2\n",
      "  (1392, 4487)\t1\n",
      "  (1392, 4802)\t1\n",
      "  (1392, 5565)\t1\n",
      "  (1392, 7075)\t1 \n",
      "\n"
     ]
    }
   ],
   "source": [
    "print(\"The Sparse Matrix for the Testing Data is :\\n\", Xtest_dtm_parse, \"\\n\")"
   ]
  },
  {
   "cell_type": "code",
   "execution_count": 57,
   "metadata": {},
   "outputs": [
    {
     "name": "stdout",
     "output_type": "stream",
     "text": [
      "The Dense Matrix for the Training Data is :\n",
      " [[0 0 0 ... 0 0 0]\n",
      " [0 0 0 ... 0 0 0]\n",
      " [0 0 0 ... 0 0 0]\n",
      " ...\n",
      " [0 0 0 ... 0 0 0]\n",
      " [0 0 0 ... 0 0 0]\n",
      " [0 0 0 ... 0 0 0]] \n",
      "\n"
     ]
    }
   ],
   "source": [
    "print(\"The Dense Matrix for the Training Data is :\\n\", Xtest_dtm_parse.toarray(), \"\\n\")"
   ]
  },
  {
   "cell_type": "code",
   "execution_count": 58,
   "metadata": {
    "scrolled": true
   },
   "outputs": [
    {
     "name": "stdout",
     "output_type": "stream",
     "text": [
      "The DataFrame Matrix for the Dense Matrix Test Data is :\n",
      "                                                     00  000  008704050406  \\\n",
      "message                                                                     \n",
      "Yep, by the pretty sculpture                         0    0             0   \n",
      "Yes, princess. Are you going to make me moan?        0    0             0   \n",
      "Welp apparently he retired                           0    0             0   \n",
      "Havent.                                              0    0             0   \n",
      "I forgot 2 ask ü all smth.. There's a card on d...   0    0             0   \n",
      "...                                                 ..  ...           ...   \n",
      "At home also.                                        0    0             0   \n",
      "Hope you are having a great day.                     0    0             0   \n",
      "Message:some text missing* Sender:Name Missing*...   0    0             0   \n",
      "WIN: We have a winner! Mr. T. Foley won an iPod...   0    0             0   \n",
      "U meet other fren dun wan meet me ah... Muz b a...   0    0             0   \n",
      "\n",
      "                                                    0121  01223585236  \\\n",
      "message                                                                 \n",
      "Yep, by the pretty sculpture                           0            0   \n",
      "Yes, princess. Are you going to make me moan?          0            0   \n",
      "Welp apparently he retired                             0            0   \n",
      "Havent.                                                0            0   \n",
      "I forgot 2 ask ü all smth.. There's a card on d...     0            0   \n",
      "...                                                  ...          ...   \n",
      "At home also.                                          0            0   \n",
      "Hope you are having a great day.                       0            0   \n",
      "Message:some text missing* Sender:Name Missing*...     0            0   \n",
      "WIN: We have a winner! Mr. T. Foley won an iPod...     0            0   \n",
      "U meet other fren dun wan meet me ah... Muz b a...     0            0   \n",
      "\n",
      "                                                    01223585334  0125698789  \\\n",
      "message                                                                       \n",
      "Yep, by the pretty sculpture                                  0           0   \n",
      "Yes, princess. Are you going to make me moan?                 0           0   \n",
      "Welp apparently he retired                                    0           0   \n",
      "Havent.                                                       0           0   \n",
      "I forgot 2 ask ü all smth.. There's a card on d...            0           0   \n",
      "...                                                         ...         ...   \n",
      "At home also.                                                 0           0   \n",
      "Hope you are having a great day.                              0           0   \n",
      "Message:some text missing* Sender:Name Missing*...            0           0   \n",
      "WIN: We have a winner! Mr. T. Foley won an iPod...            0           0   \n",
      "U meet other fren dun wan meet me ah... Muz b a...            0           0   \n",
      "\n",
      "                                                    02  0207  02072069400  \\\n",
      "message                                                                     \n",
      "Yep, by the pretty sculpture                         0     0            0   \n",
      "Yes, princess. Are you going to make me moan?        0     0            0   \n",
      "Welp apparently he retired                           0     0            0   \n",
      "Havent.                                              0     0            0   \n",
      "I forgot 2 ask ü all smth.. There's a card on d...   0     0            0   \n",
      "...                                                 ..   ...          ...   \n",
      "At home also.                                        0     0            0   \n",
      "Hope you are having a great day.                     0     0            0   \n",
      "Message:some text missing* Sender:Name Missing*...   0     0            0   \n",
      "WIN: We have a winner! Mr. T. Foley won an iPod...   0     0            0   \n",
      "U meet other fren dun wan meet me ah... Muz b a...   0     0            0   \n",
      "\n",
      "                                                    ...  zed  zeros  zhong  \\\n",
      "message                                             ...                      \n",
      "Yep, by the pretty sculpture                        ...    0      0      0   \n",
      "Yes, princess. Are you going to make me moan?       ...    0      0      0   \n",
      "Welp apparently he retired                          ...    0      0      0   \n",
      "Havent.                                             ...    0      0      0   \n",
      "I forgot 2 ask ü all smth.. There's a card on d...  ...    0      0      0   \n",
      "...                                                 ...  ...    ...    ...   \n",
      "At home also.                                       ...    0      0      0   \n",
      "Hope you are having a great day.                    ...    0      0      0   \n",
      "Message:some text missing* Sender:Name Missing*...  ...    0      0      0   \n",
      "WIN: We have a winner! Mr. T. Foley won an iPod...  ...    0      0      0   \n",
      "U meet other fren dun wan meet me ah... Muz b a...  ...    0      0      0   \n",
      "\n",
      "                                                    zindgi  zoe  zoom  zouk  \\\n",
      "message                                                                       \n",
      "Yep, by the pretty sculpture                             0    0     0     0   \n",
      "Yes, princess. Are you going to make me moan?            0    0     0     0   \n",
      "Welp apparently he retired                               0    0     0     0   \n",
      "Havent.                                                  0    0     0     0   \n",
      "I forgot 2 ask ü all smth.. There's a card on d...       0    0     0     0   \n",
      "...                                                    ...  ...   ...   ...   \n",
      "At home also.                                            0    0     0     0   \n",
      "Hope you are having a great day.                         0    0     0     0   \n",
      "Message:some text missing* Sender:Name Missing*...       0    0     0     0   \n",
      "WIN: We have a winner! Mr. T. Foley won an iPod...       0    0     0     0   \n",
      "U meet other fren dun wan meet me ah... Muz b a...       0    0     0     0   \n",
      "\n",
      "                                                    zyada  èn  〨ud  \n",
      "message                                                             \n",
      "Yep, by the pretty sculpture                            0   0    0  \n",
      "Yes, princess. Are you going to make me moan?           0   0    0  \n",
      "Welp apparently he retired                              0   0    0  \n",
      "Havent.                                                 0   0    0  \n",
      "I forgot 2 ask ü all smth.. There's a card on d...      0   0    0  \n",
      "...                                                   ...  ..  ...  \n",
      "At home also.                                           0   0    0  \n",
      "Hope you are having a great day.                        0   0    0  \n",
      "Message:some text missing* Sender:Name Missing*...      0   0    0  \n",
      "WIN: We have a winner! Mr. T. Foley won an iPod...      0   0    0  \n",
      "U meet other fren dun wan meet me ah... Muz b a...      0   0    0  \n",
      "\n",
      "[1393 rows x 7456 columns] \n",
      "\n"
     ]
    }
   ],
   "source": [
    "print(\"The DataFrame Matrix for the Dense Matrix Test Data is :\\n\", pd.DataFrame(data=Xtest_dtm_parse.toarray(),index =Xtest ,columns=fitted_vocab), \"\\n\")"
   ]
  },
  {
   "cell_type": "code",
   "execution_count": 59,
   "metadata": {},
   "outputs": [],
   "source": [
    "from sklearn.naive_bayes import MultinomialNB"
   ]
  },
  {
   "cell_type": "code",
   "execution_count": 60,
   "metadata": {},
   "outputs": [],
   "source": [
    "mnb=MultinomialNB()  "
   ]
  },
  {
   "cell_type": "code",
   "execution_count": 61,
   "metadata": {},
   "outputs": [
    {
     "data": {
      "text/plain": [
       "MultinomialNB(alpha=1.0, class_prior=None, fit_prior=True)"
      ]
     },
     "execution_count": 61,
     "metadata": {},
     "output_type": "execute_result"
    }
   ],
   "source": [
    "mnb.fit(Xtrain_dtm_parse,ytrain)"
   ]
  },
  {
   "cell_type": "code",
   "execution_count": 62,
   "metadata": {},
   "outputs": [],
   "source": [
    "ypred=mnb.predict(Xtest_dtm_parse)"
   ]
  },
  {
   "cell_type": "code",
   "execution_count": 63,
   "metadata": {},
   "outputs": [
    {
     "name": "stdout",
     "output_type": "stream",
     "text": [
      "The Prediction are :\n",
      " [0 0 0 ... 0 1 0] \n",
      "\n"
     ]
    }
   ],
   "source": [
    "print('The Prediction are :\\n', ypred,\"\\n\")"
   ]
  },
  {
   "cell_type": "code",
   "execution_count": 64,
   "metadata": {},
   "outputs": [],
   "source": [
    "from sklearn.metrics import accuracy_score, confusion_matrix"
   ]
  },
  {
   "cell_type": "code",
   "execution_count": 65,
   "metadata": {},
   "outputs": [],
   "source": [
    "accuracy = accuracy_score(ytest,ypred)"
   ]
  },
  {
   "cell_type": "code",
   "execution_count": 66,
   "metadata": {},
   "outputs": [
    {
     "name": "stdout",
     "output_type": "stream",
     "text": [
      "The Accuracy of the Multinomail Bayes Model is :\n",
      " 0.9885139985642498 \n",
      "\n"
     ]
    }
   ],
   "source": [
    "print(\"The Accuracy of the Multinomail Bayes Model is :\\n\", accuracy, \"\\n\")"
   ]
  },
  {
   "cell_type": "code",
   "execution_count": 67,
   "metadata": {},
   "outputs": [],
   "source": [
    "confusion =confusion_matrix(ytest,ypred)"
   ]
  },
  {
   "cell_type": "code",
   "execution_count": 68,
   "metadata": {},
   "outputs": [
    {
     "name": "stdout",
     "output_type": "stream",
     "text": [
      "The Confusion Metrics is :\n",
      "       Negative  Positive\n",
      "ham       1203         5\n",
      "spam        11       174 \n",
      "\n"
     ]
    }
   ],
   "source": [
    "print(\"The Confusion Metrics is :\\n\", pd.DataFrame(data=confusion,index=['ham','spam'],columns=['Negative','Positive']), \"\\n\")"
   ]
  },
  {
   "cell_type": "code",
   "execution_count": 70,
   "metadata": {},
   "outputs": [
    {
     "data": {
      "text/plain": [
       "574               Waiting for your call.\n",
       "3375             Also andros ice etc etc\n",
       "45      No calls..messages..missed calls\n",
       "3415             No pic. Please re-send.\n",
       "1988    No calls..messages..missed calls\n",
       "Name: message, dtype: object"
      ]
     },
     "execution_count": 70,
     "metadata": {},
     "output_type": "execute_result"
    }
   ],
   "source": [
    "# False Positive\n",
    "Xtest[ypred>ytest.values]"
   ]
  },
  {
   "cell_type": "code",
   "execution_count": 71,
   "metadata": {},
   "outputs": [
    {
     "data": {
      "text/plain": [
       "3132    LookAtMe!: Thanks for your purchase of a video...\n",
       "5       FreeMsg Hey there darling it's been 3 week's n...\n",
       "3530    Xmas & New Years Eve tickets are now on sale f...\n",
       "684     Hi I'm sue. I am 20 years old and work as a la...\n",
       "1875    Would you like to see my XXX pics they are so ...\n",
       "1893    CALL 09090900040 & LISTEN TO EXTREME DIRTY LIV...\n",
       "4298    thesmszone.com lets you send free anonymous an...\n",
       "4949    Hi this is Amy, we will be sending you a free ...\n",
       "2821    INTERFLORA - It's not too late to order Inter...\n",
       "2247    Hi ya babe x u 4goten bout me?' scammers getti...\n",
       "4514    Money i have won wining number 946 wot do i do...\n",
       "Name: message, dtype: object"
      ]
     },
     "execution_count": 71,
     "metadata": {},
     "output_type": "execute_result"
    }
   ],
   "source": [
    "# False Negatives\n",
    "Xtest[ypred<ytest.values]"
   ]
  },
  {
   "cell_type": "code",
   "execution_count": 84,
   "metadata": {},
   "outputs": [
    {
     "data": {
      "text/plain": [
       "1078                         Yep, by the pretty sculpture\n",
       "4028        Yes, princess. Are you going to make me moan?\n",
       "958                            Welp apparently he retired\n",
       "4642                                              Havent.\n",
       "4674    I forgot 2 ask ü all smth.. There's a card on ...\n",
       "                              ...                        \n",
       "3207                                        At home also.\n",
       "4655                     Hope you are having a great day.\n",
       "1140    Message:some text missing* Sender:Name Missing...\n",
       "1793    WIN: We have a winner! Mr. T. Foley won an iPo...\n",
       "1710    U meet other fren dun wan meet me ah... Muz b ...\n",
       "Name: message, Length: 1377, dtype: object"
      ]
     },
     "execution_count": 84,
     "metadata": {},
     "output_type": "execute_result"
    }
   ],
   "source": [
    "# True Positives\n",
    "Xtest[ytest==ypred]"
   ]
  },
  {
   "cell_type": "code",
   "execution_count": 83,
   "metadata": {},
   "outputs": [
    {
     "data": {
      "text/plain": [
       "147     FreeMsg Why haven't you replied to my text? I'...\n",
       "4517    Congrats! 2 mobile 3G Videophones R yours. cal...\n",
       "3316    FREE MESSAGE Activate your 500 FREE Text Messa...\n",
       "1929    Call from 08702490080 - tells u 2 call 0906635...\n",
       "1745    Someone has conacted our dating service and en...\n",
       "                              ...                        \n",
       "5178    SMS AUCTION - A BRAND NEW Nokia 7250 is up 4 a...\n",
       "1961    Guess what! Somebody you know secretly fancies...\n",
       "1714    Hard LIVE 121 chat just 60p/min. Choose your g...\n",
       "1463    09066362231 URGENT! Your mobile No 07xxxxxxxxx...\n",
       "1793    WIN: We have a winner! Mr. T. Foley won an iPo...\n",
       "Name: message, Length: 174, dtype: object"
      ]
     },
     "execution_count": 83,
     "metadata": {},
     "output_type": "execute_result"
    }
   ],
   "source": [
    "# True Positives\n",
    "Xtest[(ytest==1) & (ypred==1)]"
   ]
  },
  {
   "cell_type": "code",
   "execution_count": 82,
   "metadata": {},
   "outputs": [
    {
     "data": {
      "text/plain": [
       "1078                         Yep, by the pretty sculpture\n",
       "4028        Yes, princess. Are you going to make me moan?\n",
       "958                            Welp apparently he retired\n",
       "4642                                              Havent.\n",
       "4674    I forgot 2 ask ü all smth.. There's a card on ...\n",
       "                              ...                        \n",
       "4285    Yes. I come to nyc for audiitions and am tryin...\n",
       "3207                                        At home also.\n",
       "4655                     Hope you are having a great day.\n",
       "1140    Message:some text missing* Sender:Name Missing...\n",
       "1710    U meet other fren dun wan meet me ah... Muz b ...\n",
       "Name: message, Length: 1203, dtype: object"
      ]
     },
     "execution_count": 82,
     "metadata": {},
     "output_type": "execute_result"
    }
   ],
   "source": [
    "# True Negatives\n",
    "Xtest[(ytest==0) & (ypred==0)]"
   ]
  },
  {
   "cell_type": "code",
   "execution_count": 85,
   "metadata": {},
   "outputs": [],
   "source": [
    "ypred_prob = mnb.predict_proba(Xtest_dtm_parse)"
   ]
  },
  {
   "cell_type": "code",
   "execution_count": 86,
   "metadata": {},
   "outputs": [
    {
     "name": "stdout",
     "output_type": "stream",
     "text": [
      "The Probability Distribution is :\n",
      " [[9.97122551e-01 2.87744864e-03]\n",
      " [9.99981651e-01 1.83488846e-05]\n",
      " [9.97926987e-01 2.07301295e-03]\n",
      " ...\n",
      " [9.99998910e-01 1.09026171e-06]\n",
      " [1.86697467e-10 1.00000000e+00]\n",
      " [9.99999996e-01 3.98279868e-09]] \n",
      "\n"
     ]
    }
   ],
   "source": [
    "print(\"The Probability Distribution is :\\n\", ypred_prob,\"\\n\")"
   ]
  },
  {
   "cell_type": "code",
   "execution_count": 87,
   "metadata": {},
   "outputs": [],
   "source": [
    "ypred_prob_positive =mnb.predict_proba(Xtest_dtm_parse)[:,1]"
   ]
  },
  {
   "cell_type": "code",
   "execution_count": 88,
   "metadata": {},
   "outputs": [
    {
     "name": "stdout",
     "output_type": "stream",
     "text": [
      "The Probability Distribution for the Positive Response are:\n",
      " [2.87744864e-03 1.83488846e-05 2.07301295e-03 ... 1.09026171e-06\n",
      " 1.00000000e+00 3.98279868e-09] \n",
      "\n"
     ]
    }
   ],
   "source": [
    "print(\"The Probability Distribution for the Positive Response are:\\n\", ypred_prob_positive,\"\\n\")"
   ]
  },
  {
   "cell_type": "code",
   "execution_count": 90,
   "metadata": {},
   "outputs": [],
   "source": [
    "from sklearn.metrics import roc_auc_score"
   ]
  },
  {
   "cell_type": "code",
   "execution_count": 91,
   "metadata": {},
   "outputs": [],
   "source": [
    "auc_score = roc_auc_score(np.array(ytest),ypred_prob_positive)"
   ]
  },
  {
   "cell_type": "code",
   "execution_count": 92,
   "metadata": {},
   "outputs": [
    {
     "name": "stdout",
     "output_type": "stream",
     "text": [
      "AUC Score for Mnb :\n",
      " 0.9866431000536962 \n",
      "\n"
     ]
    }
   ],
   "source": [
    "print(\"AUC Score for Mnb :\\n\", auc_score, \"\\n\")"
   ]
  },
  {
   "cell_type": "code",
   "execution_count": 93,
   "metadata": {},
   "outputs": [],
   "source": [
    "from sklearn.linear_model import LogisticRegression"
   ]
  },
  {
   "cell_type": "code",
   "execution_count": 94,
   "metadata": {},
   "outputs": [],
   "source": [
    "logreg=LogisticRegression()"
   ]
  },
  {
   "cell_type": "code",
   "execution_count": 100,
   "metadata": {},
   "outputs": [
    {
     "name": "stdout",
     "output_type": "stream",
     "text": [
      "Wall time: 98.7 ms\n"
     ]
    },
    {
     "data": {
      "text/plain": [
       "LogisticRegression(C=1.0, class_weight=None, dual=False, fit_intercept=True,\n",
       "                   intercept_scaling=1, l1_ratio=None, max_iter=100,\n",
       "                   multi_class='auto', n_jobs=None, penalty='l2',\n",
       "                   random_state=None, solver='lbfgs', tol=0.0001, verbose=0,\n",
       "                   warm_start=False)"
      ]
     },
     "execution_count": 100,
     "metadata": {},
     "output_type": "execute_result"
    }
   ],
   "source": [
    "%time logreg.fit(Xtrain_dtm_parse,ytrain)"
   ]
  },
  {
   "cell_type": "code",
   "execution_count": 101,
   "metadata": {},
   "outputs": [],
   "source": [
    "ypred_class=logreg.predict(Xtest_dtm_parse)"
   ]
  },
  {
   "cell_type": "code",
   "execution_count": 102,
   "metadata": {},
   "outputs": [],
   "source": [
    "ypred_prob_positive_logreg=logreg.predict_proba(Xtest_dtm_parse)[:,1]"
   ]
  },
  {
   "cell_type": "code",
   "execution_count": 103,
   "metadata": {},
   "outputs": [
    {
     "data": {
      "text/plain": [
       "array([0.00959377, 0.00295662, 0.00452424, ..., 0.031302  , 0.99748962,\n",
       "       0.00119521])"
      ]
     },
     "execution_count": 103,
     "metadata": {},
     "output_type": "execute_result"
    }
   ],
   "source": [
    "ypred_prob_positive_logreg"
   ]
  },
  {
   "cell_type": "code",
   "execution_count": 104,
   "metadata": {},
   "outputs": [
    {
     "data": {
      "text/plain": [
       "0.9877961234745154"
      ]
     },
     "execution_count": 104,
     "metadata": {},
     "output_type": "execute_result"
    }
   ],
   "source": [
    "accuracy_score(ytest,ypred_class)"
   ]
  },
  {
   "cell_type": "code",
   "execution_count": 105,
   "metadata": {},
   "outputs": [
    {
     "data": {
      "text/plain": [
       "0.9936280651512441"
      ]
     },
     "execution_count": 105,
     "metadata": {},
     "output_type": "execute_result"
    }
   ],
   "source": [
    "roc_auc_score(ytest,ypred_prob_positive_logreg)"
   ]
  },
  {
   "cell_type": "code",
   "execution_count": 107,
   "metadata": {},
   "outputs": [
    {
     "name": "stdout",
     "output_type": "stream",
     "text": [
      "Printing the First 50 fitted Vocabularies , Tokens \n",
      " ['00', '000', '008704050406', '0121', '01223585236', '01223585334', '0125698789', '02', '0207', '02072069400', '02073162414', '02085076972', '021', '03', '04', '0430', '05', '050703', '0578', '06', '07', '07008009200', '07090201529', '07090298926', '07123456789', '07732584351', '07734396839', '07742676969', '0776xxxxxxx', '07781482378', '07786200117', '078', '07801543489', '07808', '07808247860', '07808726822', '07815296484', '07821230901', '07880867867', '0789xxxxxxx', '07946746291', '0796xxxxxx', '07973788240', '07xxxxxxxxx', '08', '0800', '08000407165', '08000776320', '08000839402', '08000930705'] \n",
      "\n"
     ]
    }
   ],
   "source": [
    "print(\"Printing the First 50 fitted Vocabularies , Tokens \\n\", vect.get_feature_names()[0:50],\"\\n\")"
   ]
  },
  {
   "cell_type": "code",
   "execution_count": 108,
   "metadata": {},
   "outputs": [
    {
     "name": "stdout",
     "output_type": "stream",
     "text": [
      "Printing the Last 50 fitted Vocabularies , Tokens \n",
      " ['yer', 'yes', 'yest', 'yesterday', 'yet', 'yetunde', 'yijue', 'ym', 'ymca', 'yo', 'yoga', 'yogasana', 'yor', 'yorge', 'you', 'youdoing', 'youi', 'youphone', 'your', 'youre', 'yourjob', 'yours', 'yourself', 'youwanna', 'yowifes', 'yoyyooo', 'yr', 'yrs', 'ything', 'yummmm', 'yummy', 'yun', 'yunny', 'yuo', 'yuou', 'yup', 'zac', 'zaher', 'zealand', 'zebra', 'zed', 'zeros', 'zhong', 'zindgi', 'zoe', 'zoom', 'zouk', 'zyada', 'èn', '〨ud'] \n",
      "\n"
     ]
    }
   ],
   "source": [
    "print(\"Printing the Last 50 fitted Vocabularies , Tokens \\n\", vect.get_feature_names()[-50:],\"\\n\")"
   ]
  },
  {
   "cell_type": "code",
   "execution_count": 110,
   "metadata": {},
   "outputs": [],
   "source": [
    "ham_spam_dist = pd.DataFrame(data=mnb.feature_count_,index=['Ham','Spam'],columns=vect.get_feature_names())"
   ]
  },
  {
   "cell_type": "code",
   "execution_count": 111,
   "metadata": {},
   "outputs": [
    {
     "name": "stdout",
     "output_type": "stream",
     "text": [
      "Ham and Spam distribution is :\n",
      "        00   000  008704050406  0121  01223585236  01223585334  0125698789  \\\n",
      "Ham   0.0   0.0           0.0   0.0          0.0          0.0         1.0   \n",
      "Spam  5.0  23.0           2.0   1.0          1.0          2.0         0.0   \n",
      "\n",
      "       02  0207  02072069400  ...  zed  zeros  zhong  zindgi  zoe  zoom  zouk  \\\n",
      "Ham   0.0   0.0          0.0  ...  0.0    1.0    1.0     2.0  1.0   1.0   0.0   \n",
      "Spam  4.0   3.0          1.0  ...  6.0    0.0    0.0     0.0  1.0   0.0   1.0   \n",
      "\n",
      "      zyada   èn  〨ud  \n",
      "Ham     1.0  1.0  1.0  \n",
      "Spam    0.0  0.0  0.0  \n",
      "\n",
      "[2 rows x 7456 columns] \n",
      "\n"
     ]
    }
   ],
   "source": [
    "print(\"Ham and Spam distribution is :\\n\",ham_spam_dist ,\"\\n\")"
   ]
  },
  {
   "cell_type": "code",
   "execution_count": 112,
   "metadata": {},
   "outputs": [
    {
     "data": {
      "text/html": [
       "<div>\n",
       "<style scoped>\n",
       "    .dataframe tbody tr th:only-of-type {\n",
       "        vertical-align: middle;\n",
       "    }\n",
       "\n",
       "    .dataframe tbody tr th {\n",
       "        vertical-align: top;\n",
       "    }\n",
       "\n",
       "    .dataframe thead th {\n",
       "        text-align: right;\n",
       "    }\n",
       "</style>\n",
       "<table border=\"1\" class=\"dataframe\">\n",
       "  <thead>\n",
       "    <tr style=\"text-align: right;\">\n",
       "      <th></th>\n",
       "      <th>00</th>\n",
       "      <th>000</th>\n",
       "      <th>008704050406</th>\n",
       "      <th>0121</th>\n",
       "      <th>01223585236</th>\n",
       "      <th>01223585334</th>\n",
       "      <th>0125698789</th>\n",
       "      <th>02</th>\n",
       "      <th>0207</th>\n",
       "      <th>02072069400</th>\n",
       "      <th>...</th>\n",
       "      <th>zed</th>\n",
       "      <th>zeros</th>\n",
       "      <th>zhong</th>\n",
       "      <th>zindgi</th>\n",
       "      <th>zoe</th>\n",
       "      <th>zoom</th>\n",
       "      <th>zouk</th>\n",
       "      <th>zyada</th>\n",
       "      <th>èn</th>\n",
       "      <th>〨ud</th>\n",
       "    </tr>\n",
       "  </thead>\n",
       "  <tbody>\n",
       "    <tr>\n",
       "      <th>Ham</th>\n",
       "      <td>0.0</td>\n",
       "      <td>0.0</td>\n",
       "      <td>0.0</td>\n",
       "      <td>0.0</td>\n",
       "      <td>0.0</td>\n",
       "      <td>0.0</td>\n",
       "      <td>1.0</td>\n",
       "      <td>0.0</td>\n",
       "      <td>0.0</td>\n",
       "      <td>0.0</td>\n",
       "      <td>...</td>\n",
       "      <td>0.0</td>\n",
       "      <td>1.0</td>\n",
       "      <td>1.0</td>\n",
       "      <td>2.0</td>\n",
       "      <td>1.0</td>\n",
       "      <td>1.0</td>\n",
       "      <td>0.0</td>\n",
       "      <td>1.0</td>\n",
       "      <td>1.0</td>\n",
       "      <td>1.0</td>\n",
       "    </tr>\n",
       "    <tr>\n",
       "      <th>Spam</th>\n",
       "      <td>5.0</td>\n",
       "      <td>23.0</td>\n",
       "      <td>2.0</td>\n",
       "      <td>1.0</td>\n",
       "      <td>1.0</td>\n",
       "      <td>2.0</td>\n",
       "      <td>0.0</td>\n",
       "      <td>4.0</td>\n",
       "      <td>3.0</td>\n",
       "      <td>1.0</td>\n",
       "      <td>...</td>\n",
       "      <td>6.0</td>\n",
       "      <td>0.0</td>\n",
       "      <td>0.0</td>\n",
       "      <td>0.0</td>\n",
       "      <td>1.0</td>\n",
       "      <td>0.0</td>\n",
       "      <td>1.0</td>\n",
       "      <td>0.0</td>\n",
       "      <td>0.0</td>\n",
       "      <td>0.0</td>\n",
       "    </tr>\n",
       "  </tbody>\n",
       "</table>\n",
       "<p>2 rows × 7456 columns</p>\n",
       "</div>"
      ],
      "text/plain": [
       "       00   000  008704050406  0121  01223585236  01223585334  0125698789  \\\n",
       "Ham   0.0   0.0           0.0   0.0          0.0          0.0         1.0   \n",
       "Spam  5.0  23.0           2.0   1.0          1.0          2.0         0.0   \n",
       "\n",
       "       02  0207  02072069400  ...  zed  zeros  zhong  zindgi  zoe  zoom  zouk  \\\n",
       "Ham   0.0   0.0          0.0  ...  0.0    1.0    1.0     2.0  1.0   1.0   0.0   \n",
       "Spam  4.0   3.0          1.0  ...  6.0    0.0    0.0     0.0  1.0   0.0   1.0   \n",
       "\n",
       "      zyada   èn  〨ud  \n",
       "Ham     1.0  1.0  1.0  \n",
       "Spam    0.0  0.0  0.0  \n",
       "\n",
       "[2 rows x 7456 columns]"
      ]
     },
     "execution_count": 112,
     "metadata": {},
     "output_type": "execute_result"
    }
   ],
   "source": [
    "ham_spam_dist"
   ]
  },
  {
   "cell_type": "code",
   "execution_count": 116,
   "metadata": {},
   "outputs": [],
   "source": [
    "ham_dist = mnb.feature_count_[0,:]"
   ]
  },
  {
   "cell_type": "code",
   "execution_count": 117,
   "metadata": {},
   "outputs": [
    {
     "name": "stdout",
     "output_type": "stream",
     "text": [
      "Ham distribution is :\n",
      "               Ham\n",
      "00            0.0\n",
      "000           0.0\n",
      "008704050406  0.0\n",
      "0121          0.0\n",
      "01223585236   0.0\n",
      "...           ...\n",
      "zoom          1.0\n",
      "zouk          0.0\n",
      "zyada         1.0\n",
      "èn            1.0\n",
      "〨ud           1.0\n",
      "\n",
      "[7456 rows x 1 columns] \n",
      "\n"
     ]
    }
   ],
   "source": [
    "print(\"Ham distribution is :\\n\", pd.DataFrame(data=ham_dist,index=vect.get_feature_names(),columns=['Ham']),\"\\n\")"
   ]
  },
  {
   "cell_type": "code",
   "execution_count": 118,
   "metadata": {},
   "outputs": [],
   "source": [
    "spam_dist = mnb.feature_count_[1,:]"
   ]
  },
  {
   "cell_type": "code",
   "execution_count": 119,
   "metadata": {},
   "outputs": [
    {
     "name": "stdout",
     "output_type": "stream",
     "text": [
      "Spam distribution is :\n",
      "               Spam\n",
      "00             5.0\n",
      "000           23.0\n",
      "008704050406   2.0\n",
      "0121           1.0\n",
      "01223585236    1.0\n",
      "...            ...\n",
      "zoom           0.0\n",
      "zouk           1.0\n",
      "zyada          0.0\n",
      "èn             0.0\n",
      "〨ud            0.0\n",
      "\n",
      "[7456 rows x 1 columns] \n",
      "\n"
     ]
    }
   ],
   "source": [
    "print(\"Spam distribution is :\\n\", pd.DataFrame(data=spam_dist,index=vect.get_feature_names(),columns=['Spam']),\"\\n\")"
   ]
  },
  {
   "cell_type": "code",
   "execution_count": 120,
   "metadata": {},
   "outputs": [],
   "source": [
    "ham_spam_dist_transpose = ham_spam_dist.T"
   ]
  },
  {
   "cell_type": "code",
   "execution_count": 121,
   "metadata": {},
   "outputs": [
    {
     "name": "stdout",
     "output_type": "stream",
     "text": [
      "The Random Dataset and the Response count are :\n",
      "                Ham  Spam\n",
      "very          64.0   2.0\n",
      "nasty          1.0   1.0\n",
      "villa          0.0   1.0\n",
      "beloved        1.0   0.0\n",
      "textoperator   0.0   2.0 \n",
      "\n"
     ]
    }
   ],
   "source": [
    "print(\"The Random Dataset and the Response count are :\\n\",ham_spam_dist_transpose.sample(n=5,random_state=6),\"\\n\")"
   ]
  },
  {
   "cell_type": "code",
   "execution_count": 126,
   "metadata": {},
   "outputs": [
    {
     "data": {
      "text/plain": [
       "array([[ 0.29856208,  0.55458094,  0.00508105, ..., -0.00835305,\n",
       "        -0.07762267, -0.00539686]])"
      ]
     },
     "execution_count": 126,
     "metadata": {},
     "output_type": "execute_result"
    }
   ],
   "source": [
    "logreg.coef_"
   ]
  },
  {
   "cell_type": "code",
   "execution_count": 123,
   "metadata": {},
   "outputs": [
    {
     "data": {
      "text/plain": [
       "(1, 7456)"
      ]
     },
     "execution_count": 123,
     "metadata": {},
     "output_type": "execute_result"
    }
   ],
   "source": [
    "logreg.coef_.shape"
   ]
  },
  {
   "cell_type": "code",
   "execution_count": 125,
   "metadata": {},
   "outputs": [
    {
     "data": {
      "text/plain": [
       "7456"
      ]
     },
     "execution_count": 125,
     "metadata": {},
     "output_type": "execute_result"
    }
   ],
   "source": [
    "len(vect.get_feature_names())"
   ]
  },
  {
   "cell_type": "code",
   "execution_count": 127,
   "metadata": {},
   "outputs": [
    {
     "data": {
      "text/html": [
       "<div>\n",
       "<style scoped>\n",
       "    .dataframe tbody tr th:only-of-type {\n",
       "        vertical-align: middle;\n",
       "    }\n",
       "\n",
       "    .dataframe tbody tr th {\n",
       "        vertical-align: top;\n",
       "    }\n",
       "\n",
       "    .dataframe thead th {\n",
       "        text-align: right;\n",
       "    }\n",
       "</style>\n",
       "<table border=\"1\" class=\"dataframe\">\n",
       "  <thead>\n",
       "    <tr style=\"text-align: right;\">\n",
       "      <th></th>\n",
       "      <th>Ham</th>\n",
       "      <th>Spam</th>\n",
       "    </tr>\n",
       "  </thead>\n",
       "  <tbody>\n",
       "    <tr>\n",
       "      <th>00</th>\n",
       "      <td>0.0</td>\n",
       "      <td>5.0</td>\n",
       "    </tr>\n",
       "    <tr>\n",
       "      <th>000</th>\n",
       "      <td>0.0</td>\n",
       "      <td>23.0</td>\n",
       "    </tr>\n",
       "    <tr>\n",
       "      <th>008704050406</th>\n",
       "      <td>0.0</td>\n",
       "      <td>2.0</td>\n",
       "    </tr>\n",
       "    <tr>\n",
       "      <th>0121</th>\n",
       "      <td>0.0</td>\n",
       "      <td>1.0</td>\n",
       "    </tr>\n",
       "    <tr>\n",
       "      <th>01223585236</th>\n",
       "      <td>0.0</td>\n",
       "      <td>1.0</td>\n",
       "    </tr>\n",
       "    <tr>\n",
       "      <th>...</th>\n",
       "      <td>...</td>\n",
       "      <td>...</td>\n",
       "    </tr>\n",
       "    <tr>\n",
       "      <th>zoom</th>\n",
       "      <td>1.0</td>\n",
       "      <td>0.0</td>\n",
       "    </tr>\n",
       "    <tr>\n",
       "      <th>zouk</th>\n",
       "      <td>0.0</td>\n",
       "      <td>1.0</td>\n",
       "    </tr>\n",
       "    <tr>\n",
       "      <th>zyada</th>\n",
       "      <td>1.0</td>\n",
       "      <td>0.0</td>\n",
       "    </tr>\n",
       "    <tr>\n",
       "      <th>èn</th>\n",
       "      <td>1.0</td>\n",
       "      <td>0.0</td>\n",
       "    </tr>\n",
       "    <tr>\n",
       "      <th>〨ud</th>\n",
       "      <td>1.0</td>\n",
       "      <td>0.0</td>\n",
       "    </tr>\n",
       "  </tbody>\n",
       "</table>\n",
       "<p>7456 rows × 2 columns</p>\n",
       "</div>"
      ],
      "text/plain": [
       "              Ham  Spam\n",
       "00            0.0   5.0\n",
       "000           0.0  23.0\n",
       "008704050406  0.0   2.0\n",
       "0121          0.0   1.0\n",
       "01223585236   0.0   1.0\n",
       "...           ...   ...\n",
       "zoom          1.0   0.0\n",
       "zouk          0.0   1.0\n",
       "zyada         1.0   0.0\n",
       "èn            1.0   0.0\n",
       "〨ud           1.0   0.0\n",
       "\n",
       "[7456 rows x 2 columns]"
      ]
     },
     "execution_count": 127,
     "metadata": {},
     "output_type": "execute_result"
    }
   ],
   "source": [
    "ham_spam_dist_transpose"
   ]
  },
  {
   "cell_type": "code",
   "execution_count": 128,
   "metadata": {},
   "outputs": [
    {
     "name": "stdout",
     "output_type": "stream",
     "text": [
      "Ham and Spam overall counts are : \n",
      "            0\n",
      "Ham   3617.0\n",
      "Spam   562.0 \n",
      "\n"
     ]
    }
   ],
   "source": [
    "print(\"Ham and Spam overall counts are : \\n\", pd.DataFrame(data=mnb.class_count_,index=['Ham', 'Spam']),\"\\n\")"
   ]
  },
  {
   "cell_type": "code",
   "execution_count": 129,
   "metadata": {},
   "outputs": [
    {
     "data": {
      "text/plain": [
       "array([3617.,  562.])"
      ]
     },
     "execution_count": 129,
     "metadata": {},
     "output_type": "execute_result"
    }
   ],
   "source": [
    "mnb.class_count_"
   ]
  },
  {
   "cell_type": "code",
   "execution_count": 131,
   "metadata": {},
   "outputs": [
    {
     "ename": "TypeError",
     "evalue": "'NoneType' object is not callable",
     "output_type": "error",
     "traceback": [
      "\u001b[1;31m---------------------------------------------------------------------------\u001b[0m",
      "\u001b[1;31mTypeError\u001b[0m                                 Traceback (most recent call last)",
      "\u001b[1;32m<ipython-input-131-e0c10a3f2654>\u001b[0m in \u001b[0;36m<module>\u001b[1;34m\u001b[0m\n\u001b[1;32m----> 1\u001b[1;33m \u001b[0mlogreg\u001b[0m\u001b[1;33m.\u001b[0m\u001b[0mclass_weight\u001b[0m\u001b[1;33m(\u001b[0m\u001b[1;33m)\u001b[0m\u001b[1;33m\u001b[0m\u001b[0m\n\u001b[0m",
      "\u001b[1;31mTypeError\u001b[0m: 'NoneType' object is not callable"
     ]
    }
   ],
   "source": []
  },
  {
   "cell_type": "code",
   "execution_count": 132,
   "metadata": {},
   "outputs": [],
   "source": [
    "ham_spam_dist_transpose['Ham'] = ham_spam_dist_transpose['Ham']+1\n",
    "ham_spam_dist_transpose['Spam'] = ham_spam_dist_transpose['Spam']+1"
   ]
  },
  {
   "cell_type": "code",
   "execution_count": 133,
   "metadata": {},
   "outputs": [
    {
     "data": {
      "text/html": [
       "<div>\n",
       "<style scoped>\n",
       "    .dataframe tbody tr th:only-of-type {\n",
       "        vertical-align: middle;\n",
       "    }\n",
       "\n",
       "    .dataframe tbody tr th {\n",
       "        vertical-align: top;\n",
       "    }\n",
       "\n",
       "    .dataframe thead th {\n",
       "        text-align: right;\n",
       "    }\n",
       "</style>\n",
       "<table border=\"1\" class=\"dataframe\">\n",
       "  <thead>\n",
       "    <tr style=\"text-align: right;\">\n",
       "      <th></th>\n",
       "      <th>Ham</th>\n",
       "      <th>Spam</th>\n",
       "    </tr>\n",
       "  </thead>\n",
       "  <tbody>\n",
       "    <tr>\n",
       "      <th>00</th>\n",
       "      <td>1.0</td>\n",
       "      <td>6.0</td>\n",
       "    </tr>\n",
       "    <tr>\n",
       "      <th>000</th>\n",
       "      <td>1.0</td>\n",
       "      <td>24.0</td>\n",
       "    </tr>\n",
       "    <tr>\n",
       "      <th>008704050406</th>\n",
       "      <td>1.0</td>\n",
       "      <td>3.0</td>\n",
       "    </tr>\n",
       "    <tr>\n",
       "      <th>0121</th>\n",
       "      <td>1.0</td>\n",
       "      <td>2.0</td>\n",
       "    </tr>\n",
       "    <tr>\n",
       "      <th>01223585236</th>\n",
       "      <td>1.0</td>\n",
       "      <td>2.0</td>\n",
       "    </tr>\n",
       "    <tr>\n",
       "      <th>...</th>\n",
       "      <td>...</td>\n",
       "      <td>...</td>\n",
       "    </tr>\n",
       "    <tr>\n",
       "      <th>zoom</th>\n",
       "      <td>2.0</td>\n",
       "      <td>1.0</td>\n",
       "    </tr>\n",
       "    <tr>\n",
       "      <th>zouk</th>\n",
       "      <td>1.0</td>\n",
       "      <td>2.0</td>\n",
       "    </tr>\n",
       "    <tr>\n",
       "      <th>zyada</th>\n",
       "      <td>2.0</td>\n",
       "      <td>1.0</td>\n",
       "    </tr>\n",
       "    <tr>\n",
       "      <th>èn</th>\n",
       "      <td>2.0</td>\n",
       "      <td>1.0</td>\n",
       "    </tr>\n",
       "    <tr>\n",
       "      <th>〨ud</th>\n",
       "      <td>2.0</td>\n",
       "      <td>1.0</td>\n",
       "    </tr>\n",
       "  </tbody>\n",
       "</table>\n",
       "<p>7456 rows × 2 columns</p>\n",
       "</div>"
      ],
      "text/plain": [
       "              Ham  Spam\n",
       "00            1.0   6.0\n",
       "000           1.0  24.0\n",
       "008704050406  1.0   3.0\n",
       "0121          1.0   2.0\n",
       "01223585236   1.0   2.0\n",
       "...           ...   ...\n",
       "zoom          2.0   1.0\n",
       "zouk          1.0   2.0\n",
       "zyada         2.0   1.0\n",
       "èn            2.0   1.0\n",
       "〨ud           2.0   1.0\n",
       "\n",
       "[7456 rows x 2 columns]"
      ]
     },
     "execution_count": 133,
     "metadata": {},
     "output_type": "execute_result"
    }
   ],
   "source": [
    "ham_spam_dist_transpose"
   ]
  },
  {
   "cell_type": "code",
   "execution_count": 135,
   "metadata": {},
   "outputs": [
    {
     "name": "stdout",
     "output_type": "stream",
     "text": [
      "The New Random Dataset and the Response count are :\n",
      "                Ham  Spam\n",
      "very          65.0   3.0\n",
      "nasty          2.0   2.0\n",
      "villa          1.0   2.0\n",
      "beloved        2.0   1.0\n",
      "textoperator   1.0   3.0 \n",
      "\n"
     ]
    }
   ],
   "source": [
    "print(\"The New Random Dataset and the Response count are :\\n\",ham_spam_dist_transpose.sample(n=5,random_state=6),\"\\n\")"
   ]
  },
  {
   "cell_type": "code",
   "execution_count": 136,
   "metadata": {},
   "outputs": [],
   "source": [
    "ham_spam_dist_transpose['Ham'] = ham_spam_dist_transpose['Ham']/mnb.class_count_[0]\n",
    "ham_spam_dist_transpose['Spam'] = ham_spam_dist_transpose['Spam']/mnb.class_count_[1]"
   ]
  },
  {
   "cell_type": "code",
   "execution_count": 137,
   "metadata": {},
   "outputs": [
    {
     "name": "stdout",
     "output_type": "stream",
     "text": [
      "The Ham Spam distribution from the random dataset is now :\n",
      "                    Ham      Spam\n",
      "very          0.017971  0.005338\n",
      "nasty         0.000553  0.003559\n",
      "villa         0.000276  0.003559\n",
      "beloved       0.000553  0.001779\n",
      "textoperator  0.000276  0.005338 \n",
      "\n"
     ]
    }
   ],
   "source": [
    "print(\"The Ham Spam distribution from the random dataset is now :\\n\", ham_spam_dist_transpose.sample(n=5,random_state=6), \"\\n\")"
   ]
  },
  {
   "cell_type": "code",
   "execution_count": 138,
   "metadata": {},
   "outputs": [],
   "source": [
    "ham_spam_dist_transpose['Spam Ratio'] = ham_spam_dist_transpose['Spam']/ham_spam_dist_transpose['Ham']"
   ]
  },
  {
   "cell_type": "code",
   "execution_count": 139,
   "metadata": {},
   "outputs": [
    {
     "name": "stdout",
     "output_type": "stream",
     "text": [
      "The Sorted Spam Ratio is :\n",
      "                  Ham      Spam  Spam Ratio\n",
      "claim       0.000276  0.158363  572.798932\n",
      "prize       0.000276  0.135231  489.131673\n",
      "150p        0.000276  0.087189  315.361210\n",
      "tone        0.000276  0.085409  308.925267\n",
      "guaranteed  0.000276  0.076512  276.745552\n",
      "...              ...       ...         ...\n",
      "da          0.032900  0.001779    0.054084\n",
      "she         0.035665  0.001779    0.049891\n",
      "he          0.047000  0.001779    0.037858\n",
      "lt          0.064142  0.001779    0.027741\n",
      "gt          0.064971  0.001779    0.027387\n",
      "\n",
      "[7456 rows x 3 columns] \n",
      "\n"
     ]
    }
   ],
   "source": [
    "print(\"The Sorted Spam Ratio is :\\n\", ham_spam_dist_transpose.sort_values(by='Spam Ratio',ascending=False),\"\\n\")"
   ]
  },
  {
   "cell_type": "code",
   "execution_count": 140,
   "metadata": {},
   "outputs": [
    {
     "name": "stdout",
     "output_type": "stream",
     "text": [
      "Checking for the Spam Ratio for a Particular Word :\n",
      " 83.66725978647686 \n",
      "\n"
     ]
    }
   ],
   "source": [
    "print(\"Checking for the Spam Ratio for a Particular Word :\\n\", ham_spam_dist_transpose.loc['dating','Spam Ratio'],'\\n')"
   ]
  },
  {
   "cell_type": "code",
   "execution_count": 141,
   "metadata": {},
   "outputs": [],
   "source": [
    "Xsample1 = '''You have won a claim worth prize 400 dollars and in this regards you are requested to send a deposit money of $ 500 and on the\n",
    "reciept of the money, you will be awarded a guaranteed worth of prize money'''\n",
    "Xsample2 = '''You are a good example to all the students in this class. I am very happy for your achievement and I wish you\n",
    "all the success in your future endeavor'''"
   ]
  },
  {
   "cell_type": "code",
   "execution_count": 142,
   "metadata": {},
   "outputs": [],
   "source": [
    "Xsampledf =pd.Series(Xsample1)"
   ]
  },
  {
   "cell_type": "code",
   "execution_count": 143,
   "metadata": {},
   "outputs": [],
   "source": [
    "Xsample_dtm_parse = vect.transform(Xsampledf)"
   ]
  },
  {
   "cell_type": "code",
   "execution_count": 144,
   "metadata": {},
   "outputs": [
    {
     "name": "stdout",
     "output_type": "stream",
     "text": [
      "The Predicted Keyword is :\n",
      " [1] \n",
      "\n"
     ]
    }
   ],
   "source": [
    "print(\"The Predicted Keyword is :\\n\",mnb.predict(Xsample_dtm_parse), \"\\n\")"
   ]
  },
  {
   "cell_type": "code",
   "execution_count": null,
   "metadata": {},
   "outputs": [],
   "source": []
  }
 ],
 "metadata": {
  "kernelspec": {
   "display_name": "Python 3",
   "language": "python",
   "name": "python3"
  },
  "language_info": {
   "codemirror_mode": {
    "name": "ipython",
    "version": 3
   },
   "file_extension": ".py",
   "mimetype": "text/x-python",
   "name": "python",
   "nbconvert_exporter": "python",
   "pygments_lexer": "ipython3",
   "version": "3.6.5"
  }
 },
 "nbformat": 4,
 "nbformat_minor": 4
}
